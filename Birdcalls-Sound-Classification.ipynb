{
  "cells": [
    {
      "cell_type": "code",
      "execution_count": 1,
      "id": "8d8d5cd7-2144-46b2-943c-a8bb181c76f9",
      "metadata": {
        "scrolled": true,
        "colab": {
          "base_uri": "https://localhost:8080/"
        },
        "id": "8d8d5cd7-2144-46b2-943c-a8bb181c76f9",
        "outputId": "c68b2b75-c254-45ae-a0a4-780150fc4f37"
      },
      "outputs": [
        {
          "output_type": "stream",
          "name": "stdout",
          "text": [
            "Looking in indexes: https://pypi.org/simple, https://us-python.pkg.dev/colab-wheels/public/simple/\n",
            "Requirement already satisfied: tensorflow==2.11.0 in /usr/local/lib/python3.8/dist-packages (2.11.0)\n",
            "Requirement already satisfied: matplotlib in /usr/local/lib/python3.8/dist-packages (3.2.2)\n",
            "Requirement already satisfied: h5py>=2.9.0 in /usr/local/lib/python3.8/dist-packages (from tensorflow==2.11.0) (3.1.0)\n",
            "Requirement already satisfied: flatbuffers>=2.0 in /usr/local/lib/python3.8/dist-packages (from tensorflow==2.11.0) (22.12.6)\n",
            "Requirement already satisfied: wrapt>=1.11.0 in /usr/local/lib/python3.8/dist-packages (from tensorflow==2.11.0) (1.14.1)\n",
            "Requirement already satisfied: absl-py>=1.0.0 in /usr/local/lib/python3.8/dist-packages (from tensorflow==2.11.0) (1.3.0)\n",
            "Requirement already satisfied: opt-einsum>=2.3.2 in /usr/local/lib/python3.8/dist-packages (from tensorflow==2.11.0) (3.3.0)\n",
            "Requirement already satisfied: typing-extensions>=3.6.6 in /usr/local/lib/python3.8/dist-packages (from tensorflow==2.11.0) (4.4.0)\n",
            "Requirement already satisfied: libclang>=13.0.0 in /usr/local/lib/python3.8/dist-packages (from tensorflow==2.11.0) (14.0.6)\n",
            "Requirement already satisfied: gast<=0.4.0,>=0.2.1 in /usr/local/lib/python3.8/dist-packages (from tensorflow==2.11.0) (0.4.0)\n",
            "Requirement already satisfied: setuptools in /usr/local/lib/python3.8/dist-packages (from tensorflow==2.11.0) (57.4.0)\n",
            "Requirement already satisfied: tensorflow-io-gcs-filesystem>=0.23.1 in /usr/local/lib/python3.8/dist-packages (from tensorflow==2.11.0) (0.28.0)\n",
            "Requirement already satisfied: packaging in /usr/local/lib/python3.8/dist-packages (from tensorflow==2.11.0) (21.3)\n",
            "Requirement already satisfied: google-pasta>=0.1.1 in /usr/local/lib/python3.8/dist-packages (from tensorflow==2.11.0) (0.2.0)\n",
            "Requirement already satisfied: six>=1.12.0 in /usr/local/lib/python3.8/dist-packages (from tensorflow==2.11.0) (1.15.0)\n",
            "Requirement already satisfied: termcolor>=1.1.0 in /usr/local/lib/python3.8/dist-packages (from tensorflow==2.11.0) (2.1.1)\n",
            "Requirement already satisfied: protobuf<3.20,>=3.9.2 in /usr/local/lib/python3.8/dist-packages (from tensorflow==2.11.0) (3.19.6)\n",
            "Requirement already satisfied: keras<2.12,>=2.11.0 in /usr/local/lib/python3.8/dist-packages (from tensorflow==2.11.0) (2.11.0)\n",
            "Requirement already satisfied: tensorflow-estimator<2.12,>=2.11.0 in /usr/local/lib/python3.8/dist-packages (from tensorflow==2.11.0) (2.11.0)\n",
            "Requirement already satisfied: grpcio<2.0,>=1.24.3 in /usr/local/lib/python3.8/dist-packages (from tensorflow==2.11.0) (1.51.1)\n",
            "Requirement already satisfied: numpy>=1.20 in /usr/local/lib/python3.8/dist-packages (from tensorflow==2.11.0) (1.21.6)\n",
            "Requirement already satisfied: tensorboard<2.12,>=2.11 in /usr/local/lib/python3.8/dist-packages (from tensorflow==2.11.0) (2.11.0)\n",
            "Requirement already satisfied: astunparse>=1.6.0 in /usr/local/lib/python3.8/dist-packages (from tensorflow==2.11.0) (1.6.3)\n",
            "Requirement already satisfied: wheel<1.0,>=0.23.0 in /usr/local/lib/python3.8/dist-packages (from astunparse>=1.6.0->tensorflow==2.11.0) (0.38.4)\n",
            "Requirement already satisfied: google-auth-oauthlib<0.5,>=0.4.1 in /usr/local/lib/python3.8/dist-packages (from tensorboard<2.12,>=2.11->tensorflow==2.11.0) (0.4.6)\n",
            "Requirement already satisfied: requests<3,>=2.21.0 in /usr/local/lib/python3.8/dist-packages (from tensorboard<2.12,>=2.11->tensorflow==2.11.0) (2.23.0)\n",
            "Requirement already satisfied: tensorboard-plugin-wit>=1.6.0 in /usr/local/lib/python3.8/dist-packages (from tensorboard<2.12,>=2.11->tensorflow==2.11.0) (1.8.1)\n",
            "Requirement already satisfied: google-auth<3,>=1.6.3 in /usr/local/lib/python3.8/dist-packages (from tensorboard<2.12,>=2.11->tensorflow==2.11.0) (2.15.0)\n",
            "Requirement already satisfied: werkzeug>=1.0.1 in /usr/local/lib/python3.8/dist-packages (from tensorboard<2.12,>=2.11->tensorflow==2.11.0) (1.0.1)\n",
            "Requirement already satisfied: tensorboard-data-server<0.7.0,>=0.6.0 in /usr/local/lib/python3.8/dist-packages (from tensorboard<2.12,>=2.11->tensorflow==2.11.0) (0.6.1)\n",
            "Requirement already satisfied: markdown>=2.6.8 in /usr/local/lib/python3.8/dist-packages (from tensorboard<2.12,>=2.11->tensorflow==2.11.0) (3.4.1)\n",
            "Requirement already satisfied: pyasn1-modules>=0.2.1 in /usr/local/lib/python3.8/dist-packages (from google-auth<3,>=1.6.3->tensorboard<2.12,>=2.11->tensorflow==2.11.0) (0.2.8)\n",
            "Requirement already satisfied: cachetools<6.0,>=2.0.0 in /usr/local/lib/python3.8/dist-packages (from google-auth<3,>=1.6.3->tensorboard<2.12,>=2.11->tensorflow==2.11.0) (5.2.0)\n",
            "Requirement already satisfied: rsa<5,>=3.1.4 in /usr/local/lib/python3.8/dist-packages (from google-auth<3,>=1.6.3->tensorboard<2.12,>=2.11->tensorflow==2.11.0) (4.9)\n",
            "Requirement already satisfied: requests-oauthlib>=0.7.0 in /usr/local/lib/python3.8/dist-packages (from google-auth-oauthlib<0.5,>=0.4.1->tensorboard<2.12,>=2.11->tensorflow==2.11.0) (1.3.1)\n",
            "Requirement already satisfied: importlib-metadata>=4.4 in /usr/local/lib/python3.8/dist-packages (from markdown>=2.6.8->tensorboard<2.12,>=2.11->tensorflow==2.11.0) (5.1.0)\n",
            "Requirement already satisfied: zipp>=0.5 in /usr/local/lib/python3.8/dist-packages (from importlib-metadata>=4.4->markdown>=2.6.8->tensorboard<2.12,>=2.11->tensorflow==2.11.0) (3.11.0)\n",
            "Requirement already satisfied: pyasn1<0.5.0,>=0.4.6 in /usr/local/lib/python3.8/dist-packages (from pyasn1-modules>=0.2.1->google-auth<3,>=1.6.3->tensorboard<2.12,>=2.11->tensorflow==2.11.0) (0.4.8)\n",
            "Requirement already satisfied: certifi>=2017.4.17 in /usr/local/lib/python3.8/dist-packages (from requests<3,>=2.21.0->tensorboard<2.12,>=2.11->tensorflow==2.11.0) (2022.12.7)\n",
            "Requirement already satisfied: chardet<4,>=3.0.2 in /usr/local/lib/python3.8/dist-packages (from requests<3,>=2.21.0->tensorboard<2.12,>=2.11->tensorflow==2.11.0) (3.0.4)\n",
            "Requirement already satisfied: urllib3!=1.25.0,!=1.25.1,<1.26,>=1.21.1 in /usr/local/lib/python3.8/dist-packages (from requests<3,>=2.21.0->tensorboard<2.12,>=2.11->tensorflow==2.11.0) (1.24.3)\n",
            "Requirement already satisfied: idna<3,>=2.5 in /usr/local/lib/python3.8/dist-packages (from requests<3,>=2.21.0->tensorboard<2.12,>=2.11->tensorflow==2.11.0) (2.10)\n",
            "Requirement already satisfied: oauthlib>=3.0.0 in /usr/local/lib/python3.8/dist-packages (from requests-oauthlib>=0.7.0->google-auth-oauthlib<0.5,>=0.4.1->tensorboard<2.12,>=2.11->tensorflow==2.11.0) (3.2.2)\n",
            "Requirement already satisfied: python-dateutil>=2.1 in /usr/local/lib/python3.8/dist-packages (from matplotlib) (2.8.2)\n",
            "Requirement already satisfied: cycler>=0.10 in /usr/local/lib/python3.8/dist-packages (from matplotlib) (0.11.0)\n",
            "Requirement already satisfied: pyparsing!=2.0.4,!=2.1.2,!=2.1.6,>=2.0.1 in /usr/local/lib/python3.8/dist-packages (from matplotlib) (3.0.9)\n",
            "Requirement already satisfied: kiwisolver>=1.0.1 in /usr/local/lib/python3.8/dist-packages (from matplotlib) (1.4.4)\n",
            "Looking in indexes: https://pypi.org/simple, https://us-python.pkg.dev/colab-wheels/public/simple/\n",
            "Requirement already satisfied: tensorflow-io in /usr/local/lib/python3.8/dist-packages (0.28.0)\n",
            "Requirement already satisfied: tensorflow-io-gcs-filesystem==0.28.0 in /usr/local/lib/python3.8/dist-packages (from tensorflow-io) (0.28.0)\n"
          ]
        }
      ],
      "source": [
        "!pip install tensorflow==2.11.0 matplotlib\n",
        "!pip install tensorflow-io"
      ]
    },
    {
      "cell_type": "code",
      "source": [
        "!pip install tensorflow-gpu"
      ],
      "metadata": {
        "id": "HBfd6qhyvFR7",
        "outputId": "ce2bf870-8953-4e1e-f5a4-5f055e7356dd",
        "colab": {
          "base_uri": "https://localhost:8080/"
        }
      },
      "id": "HBfd6qhyvFR7",
      "execution_count": 2,
      "outputs": [
        {
          "output_type": "stream",
          "name": "stdout",
          "text": [
            "Looking in indexes: https://pypi.org/simple, https://us-python.pkg.dev/colab-wheels/public/simple/\n",
            "Requirement already satisfied: tensorflow-gpu in /usr/local/lib/python3.8/dist-packages (2.11.0)\n",
            "Requirement already satisfied: wrapt>=1.11.0 in /usr/local/lib/python3.8/dist-packages (from tensorflow-gpu) (1.14.1)\n",
            "Requirement already satisfied: setuptools in /usr/local/lib/python3.8/dist-packages (from tensorflow-gpu) (57.4.0)\n",
            "Requirement already satisfied: tensorflow-estimator<2.12,>=2.11.0 in /usr/local/lib/python3.8/dist-packages (from tensorflow-gpu) (2.11.0)\n",
            "Requirement already satisfied: opt-einsum>=2.3.2 in /usr/local/lib/python3.8/dist-packages (from tensorflow-gpu) (3.3.0)\n",
            "Requirement already satisfied: flatbuffers>=2.0 in /usr/local/lib/python3.8/dist-packages (from tensorflow-gpu) (22.12.6)\n",
            "Requirement already satisfied: absl-py>=1.0.0 in /usr/local/lib/python3.8/dist-packages (from tensorflow-gpu) (1.3.0)\n",
            "Requirement already satisfied: tensorflow-io-gcs-filesystem>=0.23.1 in /usr/local/lib/python3.8/dist-packages (from tensorflow-gpu) (0.28.0)\n",
            "Requirement already satisfied: six>=1.12.0 in /usr/local/lib/python3.8/dist-packages (from tensorflow-gpu) (1.15.0)\n",
            "Requirement already satisfied: protobuf<3.20,>=3.9.2 in /usr/local/lib/python3.8/dist-packages (from tensorflow-gpu) (3.19.6)\n",
            "Requirement already satisfied: packaging in /usr/local/lib/python3.8/dist-packages (from tensorflow-gpu) (21.3)\n",
            "Requirement already satisfied: tensorboard<2.12,>=2.11 in /usr/local/lib/python3.8/dist-packages (from tensorflow-gpu) (2.11.0)\n",
            "Requirement already satisfied: numpy>=1.20 in /usr/local/lib/python3.8/dist-packages (from tensorflow-gpu) (1.21.6)\n",
            "Requirement already satisfied: google-pasta>=0.1.1 in /usr/local/lib/python3.8/dist-packages (from tensorflow-gpu) (0.2.0)\n",
            "Requirement already satisfied: astunparse>=1.6.0 in /usr/local/lib/python3.8/dist-packages (from tensorflow-gpu) (1.6.3)\n",
            "Requirement already satisfied: keras<2.12,>=2.11.0 in /usr/local/lib/python3.8/dist-packages (from tensorflow-gpu) (2.11.0)\n",
            "Requirement already satisfied: typing-extensions>=3.6.6 in /usr/local/lib/python3.8/dist-packages (from tensorflow-gpu) (4.4.0)\n",
            "Requirement already satisfied: libclang>=13.0.0 in /usr/local/lib/python3.8/dist-packages (from tensorflow-gpu) (14.0.6)\n",
            "Requirement already satisfied: gast<=0.4.0,>=0.2.1 in /usr/local/lib/python3.8/dist-packages (from tensorflow-gpu) (0.4.0)\n",
            "Requirement already satisfied: termcolor>=1.1.0 in /usr/local/lib/python3.8/dist-packages (from tensorflow-gpu) (2.1.1)\n",
            "Requirement already satisfied: grpcio<2.0,>=1.24.3 in /usr/local/lib/python3.8/dist-packages (from tensorflow-gpu) (1.51.1)\n",
            "Requirement already satisfied: h5py>=2.9.0 in /usr/local/lib/python3.8/dist-packages (from tensorflow-gpu) (3.1.0)\n",
            "Requirement already satisfied: wheel<1.0,>=0.23.0 in /usr/local/lib/python3.8/dist-packages (from astunparse>=1.6.0->tensorflow-gpu) (0.38.4)\n",
            "Requirement already satisfied: requests<3,>=2.21.0 in /usr/local/lib/python3.8/dist-packages (from tensorboard<2.12,>=2.11->tensorflow-gpu) (2.23.0)\n",
            "Requirement already satisfied: tensorboard-plugin-wit>=1.6.0 in /usr/local/lib/python3.8/dist-packages (from tensorboard<2.12,>=2.11->tensorflow-gpu) (1.8.1)\n",
            "Requirement already satisfied: google-auth<3,>=1.6.3 in /usr/local/lib/python3.8/dist-packages (from tensorboard<2.12,>=2.11->tensorflow-gpu) (2.15.0)\n",
            "Requirement already satisfied: tensorboard-data-server<0.7.0,>=0.6.0 in /usr/local/lib/python3.8/dist-packages (from tensorboard<2.12,>=2.11->tensorflow-gpu) (0.6.1)\n",
            "Requirement already satisfied: markdown>=2.6.8 in /usr/local/lib/python3.8/dist-packages (from tensorboard<2.12,>=2.11->tensorflow-gpu) (3.4.1)\n",
            "Requirement already satisfied: werkzeug>=1.0.1 in /usr/local/lib/python3.8/dist-packages (from tensorboard<2.12,>=2.11->tensorflow-gpu) (1.0.1)\n",
            "Requirement already satisfied: google-auth-oauthlib<0.5,>=0.4.1 in /usr/local/lib/python3.8/dist-packages (from tensorboard<2.12,>=2.11->tensorflow-gpu) (0.4.6)\n",
            "Requirement already satisfied: pyasn1-modules>=0.2.1 in /usr/local/lib/python3.8/dist-packages (from google-auth<3,>=1.6.3->tensorboard<2.12,>=2.11->tensorflow-gpu) (0.2.8)\n",
            "Requirement already satisfied: rsa<5,>=3.1.4 in /usr/local/lib/python3.8/dist-packages (from google-auth<3,>=1.6.3->tensorboard<2.12,>=2.11->tensorflow-gpu) (4.9)\n",
            "Requirement already satisfied: cachetools<6.0,>=2.0.0 in /usr/local/lib/python3.8/dist-packages (from google-auth<3,>=1.6.3->tensorboard<2.12,>=2.11->tensorflow-gpu) (5.2.0)\n",
            "Requirement already satisfied: requests-oauthlib>=0.7.0 in /usr/local/lib/python3.8/dist-packages (from google-auth-oauthlib<0.5,>=0.4.1->tensorboard<2.12,>=2.11->tensorflow-gpu) (1.3.1)\n",
            "Requirement already satisfied: importlib-metadata>=4.4 in /usr/local/lib/python3.8/dist-packages (from markdown>=2.6.8->tensorboard<2.12,>=2.11->tensorflow-gpu) (5.1.0)\n",
            "Requirement already satisfied: zipp>=0.5 in /usr/local/lib/python3.8/dist-packages (from importlib-metadata>=4.4->markdown>=2.6.8->tensorboard<2.12,>=2.11->tensorflow-gpu) (3.11.0)\n",
            "Requirement already satisfied: pyasn1<0.5.0,>=0.4.6 in /usr/local/lib/python3.8/dist-packages (from pyasn1-modules>=0.2.1->google-auth<3,>=1.6.3->tensorboard<2.12,>=2.11->tensorflow-gpu) (0.4.8)\n",
            "Requirement already satisfied: urllib3!=1.25.0,!=1.25.1,<1.26,>=1.21.1 in /usr/local/lib/python3.8/dist-packages (from requests<3,>=2.21.0->tensorboard<2.12,>=2.11->tensorflow-gpu) (1.24.3)\n",
            "Requirement already satisfied: chardet<4,>=3.0.2 in /usr/local/lib/python3.8/dist-packages (from requests<3,>=2.21.0->tensorboard<2.12,>=2.11->tensorflow-gpu) (3.0.4)\n",
            "Requirement already satisfied: idna<3,>=2.5 in /usr/local/lib/python3.8/dist-packages (from requests<3,>=2.21.0->tensorboard<2.12,>=2.11->tensorflow-gpu) (2.10)\n",
            "Requirement already satisfied: certifi>=2017.4.17 in /usr/local/lib/python3.8/dist-packages (from requests<3,>=2.21.0->tensorboard<2.12,>=2.11->tensorflow-gpu) (2022.12.7)\n",
            "Requirement already satisfied: oauthlib>=3.0.0 in /usr/local/lib/python3.8/dist-packages (from requests-oauthlib>=0.7.0->google-auth-oauthlib<0.5,>=0.4.1->tensorboard<2.12,>=2.11->tensorflow-gpu) (3.2.2)\n",
            "Requirement already satisfied: pyparsing!=3.0.5,>=2.0.2 in /usr/local/lib/python3.8/dist-packages (from packaging->tensorflow-gpu) (3.0.9)\n"
          ]
        }
      ]
    },
    {
      "cell_type": "code",
      "source": [
        "from google.colab import drive\n",
        "drive.mount('/content/drive')"
      ],
      "metadata": {
        "colab": {
          "base_uri": "https://localhost:8080/"
        },
        "id": "j82U3xoXVw0R",
        "outputId": "7ee21149-78f5-4fc0-c272-d1a27f3a8058"
      },
      "id": "j82U3xoXVw0R",
      "execution_count": 3,
      "outputs": [
        {
          "output_type": "stream",
          "name": "stdout",
          "text": [
            "Drive already mounted at /content/drive; to attempt to forcibly remount, call drive.mount(\"/content/drive\", force_remount=True).\n"
          ]
        }
      ]
    },
    {
      "cell_type": "code",
      "source": [
        "!unzip /content/drive/MyDrive/dataset/archive.zip"
      ],
      "metadata": {
        "colab": {
          "base_uri": "https://localhost:8080/"
        },
        "id": "LGkYJzWydCIr",
        "outputId": "c24037bd-c246-4ff1-9464-33b29f998dd9"
      },
      "id": "LGkYJzWydCIr",
      "execution_count": 4,
      "outputs": [
        {
          "output_type": "stream",
          "name": "stdout",
          "text": [
            "Archive:  /content/drive/MyDrive/dataset/archive.zip\n",
            "replace archive/Forest Recordings/recording_00.mp3? [y]es, [n]o, [A]ll, [N]one, [r]ename: A\n",
            "  inflating: archive/Forest Recordings/recording_00.mp3  \n",
            "  inflating: archive/Forest Recordings/recording_01.mp3  \n",
            "  inflating: archive/Forest Recordings/recording_02.mp3  \n",
            "  inflating: archive/Forest Recordings/recording_03.mp3  \n",
            "  inflating: archive/Forest Recordings/recording_04.mp3  \n",
            "  inflating: archive/Forest Recordings/recording_05.mp3  \n",
            "  inflating: archive/Forest Recordings/recording_06.mp3  \n",
            "  inflating: archive/Forest Recordings/recording_07.mp3  \n",
            "  inflating: archive/Forest Recordings/recording_08.mp3  \n",
            "  inflating: archive/Forest Recordings/recording_09.mp3  \n",
            "  inflating: archive/Forest Recordings/recording_10.mp3  \n",
            "  inflating: archive/Forest Recordings/recording_11.mp3  \n",
            "  inflating: archive/Forest Recordings/recording_12.mp3  \n",
            "  inflating: archive/Forest Recordings/recording_13.mp3  \n",
            "  inflating: archive/Forest Recordings/recording_14.mp3  \n",
            "  inflating: archive/Forest Recordings/recording_15.mp3  \n",
            "  inflating: archive/Forest Recordings/recording_16.mp3  \n",
            "  inflating: archive/Forest Recordings/recording_17.mp3  \n",
            "  inflating: archive/Forest Recordings/recording_18.mp3  \n",
            "  inflating: archive/Forest Recordings/recording_19.mp3  \n",
            "  inflating: archive/Forest Recordings/recording_20.mp3  \n",
            "  inflating: archive/Forest Recordings/recording_21.mp3  \n",
            "  inflating: archive/Forest Recordings/recording_22.mp3  \n",
            "  inflating: archive/Forest Recordings/recording_23.mp3  \n",
            "  inflating: archive/Forest Recordings/recording_24.mp3  \n",
            "  inflating: archive/Forest Recordings/recording_25.mp3  \n",
            "  inflating: archive/Forest Recordings/recording_26.mp3  \n",
            "  inflating: archive/Forest Recordings/recording_27.mp3  \n",
            "  inflating: archive/Forest Recordings/recording_28.mp3  \n",
            "  inflating: archive/Forest Recordings/recording_29.mp3  \n",
            "  inflating: archive/Forest Recordings/recording_30.mp3  \n",
            "  inflating: archive/Forest Recordings/recording_31.mp3  \n",
            "  inflating: archive/Forest Recordings/recording_32.mp3  \n",
            "  inflating: archive/Forest Recordings/recording_33.mp3  \n",
            "  inflating: archive/Forest Recordings/recording_34.mp3  \n",
            "  inflating: archive/Forest Recordings/recording_35.mp3  \n",
            "  inflating: archive/Forest Recordings/recording_36.mp3  \n",
            "  inflating: archive/Forest Recordings/recording_37.mp3  \n",
            "  inflating: archive/Forest Recordings/recording_38.mp3  \n",
            "  inflating: archive/Forest Recordings/recording_39.mp3  \n",
            "  inflating: archive/Forest Recordings/recording_40.mp3  \n",
            "  inflating: archive/Forest Recordings/recording_41.mp3  \n",
            "  inflating: archive/Forest Recordings/recording_42.mp3  \n",
            "  inflating: archive/Forest Recordings/recording_43.mp3  \n",
            "  inflating: archive/Forest Recordings/recording_44.mp3  \n",
            "  inflating: archive/Forest Recordings/recording_45.mp3  \n",
            "  inflating: archive/Forest Recordings/recording_46.mp3  \n",
            "  inflating: archive/Forest Recordings/recording_47.mp3  \n",
            "  inflating: archive/Forest Recordings/recording_48.mp3  \n",
            "  inflating: archive/Forest Recordings/recording_49.mp3  \n",
            "  inflating: archive/Forest Recordings/recording_50.mp3  \n",
            "  inflating: archive/Forest Recordings/recording_51.mp3  \n",
            "  inflating: archive/Forest Recordings/recording_52.mp3  \n",
            "  inflating: archive/Forest Recordings/recording_53.mp3  \n",
            "  inflating: archive/Forest Recordings/recording_54.mp3  \n",
            "  inflating: archive/Forest Recordings/recording_55.mp3  \n",
            "  inflating: archive/Forest Recordings/recording_56.mp3  \n",
            "  inflating: archive/Forest Recordings/recording_57.mp3  \n",
            "  inflating: archive/Forest Recordings/recording_58.mp3  \n",
            "  inflating: archive/Forest Recordings/recording_59.mp3  \n",
            "  inflating: archive/Forest Recordings/recording_60.mp3  \n",
            "  inflating: archive/Forest Recordings/recording_61.mp3  \n",
            "  inflating: archive/Forest Recordings/recording_62.mp3  \n",
            "  inflating: archive/Forest Recordings/recording_63.mp3  \n",
            "  inflating: archive/Forest Recordings/recording_64.mp3  \n",
            "  inflating: archive/Forest Recordings/recording_65.mp3  \n",
            "  inflating: archive/Forest Recordings/recording_66.mp3  \n",
            "  inflating: archive/Forest Recordings/recording_67.mp3  \n",
            "  inflating: archive/Forest Recordings/recording_68.mp3  \n",
            "  inflating: archive/Forest Recordings/recording_69.mp3  \n",
            "  inflating: archive/Forest Recordings/recording_70.mp3  \n",
            "  inflating: archive/Forest Recordings/recording_71.mp3  \n",
            "  inflating: archive/Forest Recordings/recording_72.mp3  \n",
            "  inflating: archive/Forest Recordings/recording_73.mp3  \n",
            "  inflating: archive/Forest Recordings/recording_74.mp3  \n",
            "  inflating: archive/Forest Recordings/recording_75.mp3  \n",
            "  inflating: archive/Forest Recordings/recording_76.mp3  \n",
            "  inflating: archive/Forest Recordings/recording_77.mp3  \n",
            "  inflating: archive/Forest Recordings/recording_78.mp3  \n",
            "  inflating: archive/Forest Recordings/recording_79.mp3  \n",
            "  inflating: archive/Forest Recordings/recording_80.mp3  \n",
            "  inflating: archive/Forest Recordings/recording_81.mp3  \n",
            "  inflating: archive/Forest Recordings/recording_82.mp3  \n",
            "  inflating: archive/Forest Recordings/recording_83.mp3  \n",
            "  inflating: archive/Forest Recordings/recording_84.mp3  \n",
            "  inflating: archive/Forest Recordings/recording_85.mp3  \n",
            "  inflating: archive/Forest Recordings/recording_86.mp3  \n",
            "  inflating: archive/Forest Recordings/recording_87.mp3  \n",
            "  inflating: archive/Forest Recordings/recording_88.mp3  \n",
            "  inflating: archive/Forest Recordings/recording_89.mp3  \n",
            "  inflating: archive/Forest Recordings/recording_90.mp3  \n",
            "  inflating: archive/Forest Recordings/recording_91.mp3  \n",
            "  inflating: archive/Forest Recordings/recording_92.mp3  \n",
            "  inflating: archive/Forest Recordings/recording_93.mp3  \n",
            "  inflating: archive/Forest Recordings/recording_94.mp3  \n",
            "  inflating: archive/Forest Recordings/recording_95.mp3  \n",
            "  inflating: archive/Forest Recordings/recording_96.mp3  \n",
            "  inflating: archive/Forest Recordings/recording_97.mp3  \n",
            "  inflating: archive/Forest Recordings/recording_98.mp3  \n",
            "  inflating: archive/Forest Recordings/recording_99.mp3  \n",
            "  inflating: archive/Parsed_Capuchinbird_Clips/XC114131-0.wav  \n",
            "  inflating: archive/Parsed_Capuchinbird_Clips/XC114131-1.wav  \n",
            "  inflating: archive/Parsed_Capuchinbird_Clips/XC114131-2.wav  \n",
            "  inflating: archive/Parsed_Capuchinbird_Clips/XC114131-3.wav  \n",
            "  inflating: archive/Parsed_Capuchinbird_Clips/XC114131-4.wav  \n",
            "  inflating: archive/Parsed_Capuchinbird_Clips/XC114132-0.wav  \n",
            "  inflating: archive/Parsed_Capuchinbird_Clips/XC114132-1.wav  \n",
            "  inflating: archive/Parsed_Capuchinbird_Clips/XC114132-2.wav  \n",
            "  inflating: archive/Parsed_Capuchinbird_Clips/XC114132-3.wav  \n",
            "  inflating: archive/Parsed_Capuchinbird_Clips/XC114132-4.wav  \n",
            "  inflating: archive/Parsed_Capuchinbird_Clips/XC114132-5.wav  \n",
            "  inflating: archive/Parsed_Capuchinbird_Clips/XC114132-6.wav  \n",
            "  inflating: archive/Parsed_Capuchinbird_Clips/XC119294-0.wav  \n",
            "  inflating: archive/Parsed_Capuchinbird_Clips/XC16803-0.wav  \n",
            "  inflating: archive/Parsed_Capuchinbird_Clips/XC16803-1.wav  \n",
            "  inflating: archive/Parsed_Capuchinbird_Clips/XC16803-2.wav  \n",
            "  inflating: archive/Parsed_Capuchinbird_Clips/XC16804-0.wav  \n",
            "  inflating: archive/Parsed_Capuchinbird_Clips/XC16804-1.wav  \n",
            "  inflating: archive/Parsed_Capuchinbird_Clips/XC168899-0.wav  \n",
            "  inflating: archive/Parsed_Capuchinbird_Clips/XC178167-0.wav  \n",
            "  inflating: archive/Parsed_Capuchinbird_Clips/XC178167-1.wav  \n",
            "  inflating: archive/Parsed_Capuchinbird_Clips/XC178167-2.wav  \n",
            "  inflating: archive/Parsed_Capuchinbird_Clips/XC178167-3.wav  \n",
            "  inflating: archive/Parsed_Capuchinbird_Clips/XC178168-0.wav  \n",
            "  inflating: archive/Parsed_Capuchinbird_Clips/XC178168-1.wav  \n",
            "  inflating: archive/Parsed_Capuchinbird_Clips/XC178168-2.wav  \n",
            "  inflating: archive/Parsed_Capuchinbird_Clips/XC178168-3.wav  \n",
            "  inflating: archive/Parsed_Capuchinbird_Clips/XC178168-4.wav  \n",
            "  inflating: archive/Parsed_Capuchinbird_Clips/XC178168-5.wav  \n",
            "  inflating: archive/Parsed_Capuchinbird_Clips/XC178168-6.wav  \n",
            "  inflating: archive/Parsed_Capuchinbird_Clips/XC178168-7.wav  \n",
            "  inflating: archive/Parsed_Capuchinbird_Clips/XC201990-0.wav  \n",
            "  inflating: archive/Parsed_Capuchinbird_Clips/XC201990-1.wav  \n",
            "  inflating: archive/Parsed_Capuchinbird_Clips/XC201990-2.wav  \n",
            "  inflating: archive/Parsed_Capuchinbird_Clips/XC201990-3.wav  \n",
            "  inflating: archive/Parsed_Capuchinbird_Clips/XC201990-4.wav  \n",
            "  inflating: archive/Parsed_Capuchinbird_Clips/XC201990-5.wav  \n",
            "  inflating: archive/Parsed_Capuchinbird_Clips/XC216010-0.wav  \n",
            "  inflating: archive/Parsed_Capuchinbird_Clips/XC216010-1.wav  \n",
            "  inflating: archive/Parsed_Capuchinbird_Clips/XC216010-2.wav  \n",
            "  inflating: archive/Parsed_Capuchinbird_Clips/XC216010-3.wav  \n",
            "  inflating: archive/Parsed_Capuchinbird_Clips/XC216010-4.wav  \n",
            "  inflating: archive/Parsed_Capuchinbird_Clips/XC216010-5.wav  \n",
            "  inflating: archive/Parsed_Capuchinbird_Clips/XC216010-6.wav  \n",
            "  inflating: archive/Parsed_Capuchinbird_Clips/XC216010-7.wav  \n",
            "  inflating: archive/Parsed_Capuchinbird_Clips/XC216012-0.wav  \n",
            "  inflating: archive/Parsed_Capuchinbird_Clips/XC216012-1.wav  \n",
            "  inflating: archive/Parsed_Capuchinbird_Clips/XC216012-10.wav  \n",
            "  inflating: archive/Parsed_Capuchinbird_Clips/XC216012-11.wav  \n",
            "  inflating: archive/Parsed_Capuchinbird_Clips/XC216012-12.wav  \n",
            "  inflating: archive/Parsed_Capuchinbird_Clips/XC216012-13.wav  \n",
            "  inflating: archive/Parsed_Capuchinbird_Clips/XC216012-14.wav  \n",
            "  inflating: archive/Parsed_Capuchinbird_Clips/XC216012-15.wav  \n",
            "  inflating: archive/Parsed_Capuchinbird_Clips/XC216012-16.wav  \n",
            "  inflating: archive/Parsed_Capuchinbird_Clips/XC216012-17.wav  \n",
            "  inflating: archive/Parsed_Capuchinbird_Clips/XC216012-18.wav  \n",
            "  inflating: archive/Parsed_Capuchinbird_Clips/XC216012-19.wav  \n",
            "  inflating: archive/Parsed_Capuchinbird_Clips/XC216012-2.wav  \n",
            "  inflating: archive/Parsed_Capuchinbird_Clips/XC216012-20.wav  \n",
            "  inflating: archive/Parsed_Capuchinbird_Clips/XC216012-3.wav  \n",
            "  inflating: archive/Parsed_Capuchinbird_Clips/XC216012-4.wav  \n",
            "  inflating: archive/Parsed_Capuchinbird_Clips/XC216012-5.wav  \n",
            "  inflating: archive/Parsed_Capuchinbird_Clips/XC216012-6.wav  \n",
            "  inflating: archive/Parsed_Capuchinbird_Clips/XC216012-7.wav  \n",
            "  inflating: archive/Parsed_Capuchinbird_Clips/XC216012-8.wav  \n",
            "  inflating: archive/Parsed_Capuchinbird_Clips/XC216012-9.wav  \n",
            "  inflating: archive/Parsed_Capuchinbird_Clips/XC22397-0.wav  \n",
            "  inflating: archive/Parsed_Capuchinbird_Clips/XC22397-1.wav  \n",
            "  inflating: archive/Parsed_Capuchinbird_Clips/XC22397-2.wav  \n",
            "  inflating: archive/Parsed_Capuchinbird_Clips/XC22397-3.wav  \n",
            "  inflating: archive/Parsed_Capuchinbird_Clips/XC22397-4.wav  \n",
            "  inflating: archive/Parsed_Capuchinbird_Clips/XC22397-5.wav  \n",
            "  inflating: archive/Parsed_Capuchinbird_Clips/XC22397-6.wav  \n",
            "  inflating: archive/Parsed_Capuchinbird_Clips/XC22397-7.wav  \n",
            "  inflating: archive/Parsed_Capuchinbird_Clips/XC227468-0.wav  \n",
            "  inflating: archive/Parsed_Capuchinbird_Clips/XC227468-1.wav  \n",
            "  inflating: archive/Parsed_Capuchinbird_Clips/XC227468-2.wav  \n",
            "  inflating: archive/Parsed_Capuchinbird_Clips/XC227468-3.wav  \n",
            "  inflating: archive/Parsed_Capuchinbird_Clips/XC227468-4.wav  \n",
            "  inflating: archive/Parsed_Capuchinbird_Clips/XC227468-5.wav  \n",
            "  inflating: archive/Parsed_Capuchinbird_Clips/XC227469-0.wav  \n",
            "  inflating: archive/Parsed_Capuchinbird_Clips/XC227469-1.wav  \n",
            "  inflating: archive/Parsed_Capuchinbird_Clips/XC227469-2.wav  \n",
            "  inflating: archive/Parsed_Capuchinbird_Clips/XC227469-3.wav  \n",
            "  inflating: archive/Parsed_Capuchinbird_Clips/XC227469-4.wav  \n",
            "  inflating: archive/Parsed_Capuchinbird_Clips/XC227471-0.wav  \n",
            "  inflating: archive/Parsed_Capuchinbird_Clips/XC227471-1.wav  \n",
            "  inflating: archive/Parsed_Capuchinbird_Clips/XC227471-2.wav  \n",
            "  inflating: archive/Parsed_Capuchinbird_Clips/XC227471-3.wav  \n",
            "  inflating: archive/Parsed_Capuchinbird_Clips/XC227471-4.wav  \n",
            "  inflating: archive/Parsed_Capuchinbird_Clips/XC227471-5.wav  \n",
            "  inflating: archive/Parsed_Capuchinbird_Clips/XC227471-6.wav  \n",
            "  inflating: archive/Parsed_Capuchinbird_Clips/XC227471-7.wav  \n",
            "  inflating: archive/Parsed_Capuchinbird_Clips/XC27881-0.wav  \n",
            "  inflating: archive/Parsed_Capuchinbird_Clips/XC27881-1.wav  \n",
            "  inflating: archive/Parsed_Capuchinbird_Clips/XC27881-2.wav  \n",
            "  inflating: archive/Parsed_Capuchinbird_Clips/XC27881-3.wav  \n",
            "  inflating: archive/Parsed_Capuchinbird_Clips/XC27882-0.wav  \n",
            "  inflating: archive/Parsed_Capuchinbird_Clips/XC27882-1.wav  \n",
            "  inflating: archive/Parsed_Capuchinbird_Clips/XC27882-2.wav  \n",
            "  inflating: archive/Parsed_Capuchinbird_Clips/XC27882-3.wav  \n",
            "  inflating: archive/Parsed_Capuchinbird_Clips/XC27882-4.wav  \n",
            "  inflating: archive/Parsed_Capuchinbird_Clips/XC27882-5.wav  \n",
            "  inflating: archive/Parsed_Capuchinbird_Clips/XC27882-6.wav  \n",
            "  inflating: archive/Parsed_Capuchinbird_Clips/XC307385-0.wav  \n",
            "  inflating: archive/Parsed_Capuchinbird_Clips/XC307385-1.wav  \n",
            "  inflating: archive/Parsed_Capuchinbird_Clips/XC307385-2.wav  \n",
            "  inflating: archive/Parsed_Capuchinbird_Clips/XC307385-3.wav  \n",
            "  inflating: archive/Parsed_Capuchinbird_Clips/XC307385-4.wav  \n",
            "  inflating: archive/Parsed_Capuchinbird_Clips/XC3776-0.wav  \n",
            "  inflating: archive/Parsed_Capuchinbird_Clips/XC3776-1.wav  \n",
            "  inflating: archive/Parsed_Capuchinbird_Clips/XC3776-2.wav  \n",
            "  inflating: archive/Parsed_Capuchinbird_Clips/XC3776-3.wav  \n",
            "  inflating: archive/Parsed_Capuchinbird_Clips/XC3776-4.wav  \n",
            "  inflating: archive/Parsed_Capuchinbird_Clips/XC3776-5.wav  \n",
            "  inflating: archive/Parsed_Capuchinbird_Clips/XC3776-6.wav  \n",
            "  inflating: archive/Parsed_Capuchinbird_Clips/XC387509-0.wav  \n",
            "  inflating: archive/Parsed_Capuchinbird_Clips/XC387509-1.wav  \n",
            "  inflating: archive/Parsed_Capuchinbird_Clips/XC387509-2.wav  \n",
            "  inflating: archive/Parsed_Capuchinbird_Clips/XC387509-3.wav  \n",
            "  inflating: archive/Parsed_Capuchinbird_Clips/XC387509-4.wav  \n",
            "  inflating: archive/Parsed_Capuchinbird_Clips/XC387509-5.wav  \n",
            "  inflating: archive/Parsed_Capuchinbird_Clips/XC388470-0.wav  \n",
            "  inflating: archive/Parsed_Capuchinbird_Clips/XC388470-1.wav  \n",
            "  inflating: archive/Parsed_Capuchinbird_Clips/XC388470-2.wav  \n",
            "  inflating: archive/Parsed_Capuchinbird_Clips/XC388470-3.wav  \n",
            "  inflating: archive/Parsed_Capuchinbird_Clips/XC388470-4.wav  \n",
            "  inflating: archive/Parsed_Capuchinbird_Clips/XC388470-5.wav  \n",
            "  inflating: archive/Parsed_Capuchinbird_Clips/XC388470-6.wav  \n",
            "  inflating: archive/Parsed_Capuchinbird_Clips/XC395129-0.wav  \n",
            "  inflating: archive/Parsed_Capuchinbird_Clips/XC395129-1.wav  \n",
            "  inflating: archive/Parsed_Capuchinbird_Clips/XC395129-2.wav  \n",
            "  inflating: archive/Parsed_Capuchinbird_Clips/XC395129-3.wav  \n",
            "  inflating: archive/Parsed_Capuchinbird_Clips/XC395129-4.wav  \n",
            "  inflating: archive/Parsed_Capuchinbird_Clips/XC395129-5.wav  \n",
            "  inflating: archive/Parsed_Capuchinbird_Clips/XC395129-6.wav  \n",
            "  inflating: archive/Parsed_Capuchinbird_Clips/XC401294-0.wav  \n",
            "  inflating: archive/Parsed_Capuchinbird_Clips/XC40355-0.wav  \n",
            "  inflating: archive/Parsed_Capuchinbird_Clips/XC433953-0.wav  \n",
            "  inflating: archive/Parsed_Capuchinbird_Clips/XC433953-1.wav  \n",
            "  inflating: archive/Parsed_Capuchinbird_Clips/XC433953-10.wav  \n",
            "  inflating: archive/Parsed_Capuchinbird_Clips/XC433953-2.wav  \n",
            "  inflating: archive/Parsed_Capuchinbird_Clips/XC433953-3.wav  \n",
            "  inflating: archive/Parsed_Capuchinbird_Clips/XC433953-4.wav  \n",
            "  inflating: archive/Parsed_Capuchinbird_Clips/XC433953-5.wav  \n",
            "  inflating: archive/Parsed_Capuchinbird_Clips/XC433953-6.wav  \n",
            "  inflating: archive/Parsed_Capuchinbird_Clips/XC433953-7.wav  \n",
            "  inflating: archive/Parsed_Capuchinbird_Clips/XC433953-8.wav  \n",
            "  inflating: archive/Parsed_Capuchinbird_Clips/XC433953-9.wav  \n",
            "  inflating: archive/Parsed_Capuchinbird_Clips/XC44070-0.wav  \n",
            "  inflating: archive/Parsed_Capuchinbird_Clips/XC44070-1.wav  \n",
            "  inflating: archive/Parsed_Capuchinbird_Clips/XC44070-2.wav  \n",
            "  inflating: archive/Parsed_Capuchinbird_Clips/XC456236-0.wav  \n",
            "  inflating: archive/Parsed_Capuchinbird_Clips/XC456236-1.wav  \n",
            "  inflating: archive/Parsed_Capuchinbird_Clips/XC456236-2.wav  \n",
            "  inflating: archive/Parsed_Capuchinbird_Clips/XC456236-3.wav  \n",
            "  inflating: archive/Parsed_Capuchinbird_Clips/XC456236-4.wav  \n",
            "  inflating: archive/Parsed_Capuchinbird_Clips/XC456314-0.wav  \n",
            "  inflating: archive/Parsed_Capuchinbird_Clips/XC46077-0.wav  \n",
            "  inflating: archive/Parsed_Capuchinbird_Clips/XC46077-1.wav  \n",
            "  inflating: archive/Parsed_Capuchinbird_Clips/XC46077-2.wav  \n",
            "  inflating: archive/Parsed_Capuchinbird_Clips/XC46241-0.wav  \n",
            "  inflating: archive/Parsed_Capuchinbird_Clips/XC46241-1.wav  \n",
            "  inflating: archive/Parsed_Capuchinbird_Clips/XC46241-2.wav  \n",
            "  inflating: archive/Parsed_Capuchinbird_Clips/XC46241-3.wav  \n",
            "  inflating: archive/Parsed_Capuchinbird_Clips/XC46241-4.wav  \n",
            "  inflating: archive/Parsed_Capuchinbird_Clips/XC46241-5.wav  \n",
            "  inflating: archive/Parsed_Capuchinbird_Clips/XC479556-0.wav  \n",
            "  inflating: archive/Parsed_Capuchinbird_Clips/XC495697-0.wav  \n",
            "  inflating: archive/Parsed_Capuchinbird_Clips/XC495697-1.wav  \n",
            "  inflating: archive/Parsed_Capuchinbird_Clips/XC495697-2.wav  \n",
            "  inflating: archive/Parsed_Capuchinbird_Clips/XC495697-3.wav  \n",
            "  inflating: archive/Parsed_Capuchinbird_Clips/XC495697-4.wav  \n",
            "  inflating: archive/Parsed_Capuchinbird_Clips/XC513083-0.wav  \n",
            "  inflating: archive/Parsed_Capuchinbird_Clips/XC513083-1.wav  \n",
            "  inflating: archive/Parsed_Capuchinbird_Clips/XC513083-2.wav  \n",
            "  inflating: archive/Parsed_Capuchinbird_Clips/XC520626-0.wav  \n",
            "  inflating: archive/Parsed_Capuchinbird_Clips/XC520626-1.wav  \n",
            "  inflating: archive/Parsed_Capuchinbird_Clips/XC520626-2.wav  \n",
            "  inflating: archive/Parsed_Capuchinbird_Clips/XC520626-3.wav  \n",
            "  inflating: archive/Parsed_Capuchinbird_Clips/XC526106-0.wav  \n",
            "  inflating: archive/Parsed_Capuchinbird_Clips/XC526106-1.wav  \n",
            "  inflating: archive/Parsed_Capuchinbird_Clips/XC526106-2.wav  \n",
            "  inflating: archive/Parsed_Capuchinbird_Clips/XC526106-3.wav  \n",
            "  inflating: archive/Parsed_Capuchinbird_Clips/XC526106-4.wav  \n",
            "  inflating: archive/Parsed_Capuchinbird_Clips/XC526106-5.wav  \n",
            "  inflating: archive/Parsed_Capuchinbird_Clips/XC574020-0.wav  \n",
            "  inflating: archive/Parsed_Capuchinbird_Clips/XC574021-0.wav  \n",
            "  inflating: archive/Parsed_Capuchinbird_Clips/XC600460-0.wav  \n",
            "  inflating: archive/Parsed_Capuchinbird_Clips/XC600460-1.wav  \n",
            "  inflating: archive/Parsed_Capuchinbird_Clips/XC600460-2.wav  \n",
            "  inflating: archive/Parsed_Capuchinbird_Clips/XC600460-3.wav  \n",
            "  inflating: archive/Parsed_Capuchinbird_Clips/XC600460-4.wav  \n",
            "  inflating: archive/Parsed_Capuchinbird_Clips/XC600460-5.wav  \n",
            "  inflating: archive/Parsed_Capuchinbird_Clips/XC65195-0.wav  \n",
            "  inflating: archive/Parsed_Capuchinbird_Clips/XC65196-0.wav  \n",
            "  inflating: archive/Parsed_Capuchinbird_Clips/XC65196-1.wav  \n",
            "  inflating: archive/Parsed_Capuchinbird_Clips/XC65196-2.wav  \n",
            "  inflating: archive/Parsed_Capuchinbird_Clips/XC65196-3.wav  \n",
            "  inflating: archive/Parsed_Capuchinbird_Clips/XC65196-4.wav  \n",
            "  inflating: archive/Parsed_Capuchinbird_Clips/XC79965-0.wav  \n",
            "  inflating: archive/Parsed_Capuchinbird_Clips/XC79965-1.wav  \n",
            "  inflating: archive/Parsed_Capuchinbird_Clips/XC79965-10.wav  \n",
            "  inflating: archive/Parsed_Capuchinbird_Clips/XC79965-2.wav  \n",
            "  inflating: archive/Parsed_Capuchinbird_Clips/XC79965-3.wav  \n",
            "  inflating: archive/Parsed_Capuchinbird_Clips/XC79965-4.wav  \n",
            "  inflating: archive/Parsed_Capuchinbird_Clips/XC79965-5.wav  \n",
            "  inflating: archive/Parsed_Capuchinbird_Clips/XC79965-6.wav  \n",
            "  inflating: archive/Parsed_Capuchinbird_Clips/XC79965-7.wav  \n",
            "  inflating: archive/Parsed_Capuchinbird_Clips/XC79965-8.wav  \n",
            "  inflating: archive/Parsed_Capuchinbird_Clips/XC79965-9.wav  \n",
            "  inflating: archive/Parsed_Capuchinbird_Clips/XC9221-0.wav  \n",
            "  inflating: archive/Parsed_Capuchinbird_Clips/XC9221-1.wav  \n",
            "  inflating: archive/Parsed_Capuchinbird_Clips/XC9221-2.wav  \n",
            "  inflating: archive/Parsed_Capuchinbird_Clips/XC98557-0.wav  \n",
            "  inflating: archive/Parsed_Capuchinbird_Clips/XC98557-1.wav  \n",
            "  inflating: archive/Parsed_Capuchinbird_Clips/XC9892-0.wav  \n",
            "  inflating: archive/Parsed_Not_Capuchinbird_Clips/afternoon-birds-song-in-forest-0.wav  \n",
            "  inflating: archive/Parsed_Not_Capuchinbird_Clips/afternoon-birds-song-in-forest-1.wav  \n",
            "  inflating: archive/Parsed_Not_Capuchinbird_Clips/afternoon-birds-song-in-forest-10.wav  \n",
            "  inflating: archive/Parsed_Not_Capuchinbird_Clips/afternoon-birds-song-in-forest-11.wav  \n",
            "  inflating: archive/Parsed_Not_Capuchinbird_Clips/afternoon-birds-song-in-forest-12.wav  \n",
            "  inflating: archive/Parsed_Not_Capuchinbird_Clips/afternoon-birds-song-in-forest-13.wav  \n",
            "  inflating: archive/Parsed_Not_Capuchinbird_Clips/afternoon-birds-song-in-forest-14.wav  \n",
            "  inflating: archive/Parsed_Not_Capuchinbird_Clips/afternoon-birds-song-in-forest-15.wav  \n",
            "  inflating: archive/Parsed_Not_Capuchinbird_Clips/afternoon-birds-song-in-forest-16.wav  \n",
            "  inflating: archive/Parsed_Not_Capuchinbird_Clips/afternoon-birds-song-in-forest-17.wav  \n",
            "  inflating: archive/Parsed_Not_Capuchinbird_Clips/afternoon-birds-song-in-forest-18.wav  \n",
            "  inflating: archive/Parsed_Not_Capuchinbird_Clips/afternoon-birds-song-in-forest-19.wav  \n",
            "  inflating: archive/Parsed_Not_Capuchinbird_Clips/afternoon-birds-song-in-forest-2.wav  \n",
            "  inflating: archive/Parsed_Not_Capuchinbird_Clips/afternoon-birds-song-in-forest-20.wav  \n",
            "  inflating: archive/Parsed_Not_Capuchinbird_Clips/afternoon-birds-song-in-forest-21.wav  \n",
            "  inflating: archive/Parsed_Not_Capuchinbird_Clips/afternoon-birds-song-in-forest-22.wav  \n",
            "  inflating: archive/Parsed_Not_Capuchinbird_Clips/afternoon-birds-song-in-forest-23.wav  \n",
            "  inflating: archive/Parsed_Not_Capuchinbird_Clips/afternoon-birds-song-in-forest-24.wav  \n",
            "  inflating: archive/Parsed_Not_Capuchinbird_Clips/afternoon-birds-song-in-forest-25.wav  \n",
            "  inflating: archive/Parsed_Not_Capuchinbird_Clips/afternoon-birds-song-in-forest-26.wav  \n",
            "  inflating: archive/Parsed_Not_Capuchinbird_Clips/afternoon-birds-song-in-forest-27.wav  \n",
            "  inflating: archive/Parsed_Not_Capuchinbird_Clips/afternoon-birds-song-in-forest-28.wav  \n",
            "  inflating: archive/Parsed_Not_Capuchinbird_Clips/afternoon-birds-song-in-forest-29.wav  \n",
            "  inflating: archive/Parsed_Not_Capuchinbird_Clips/afternoon-birds-song-in-forest-3.wav  \n",
            "  inflating: archive/Parsed_Not_Capuchinbird_Clips/afternoon-birds-song-in-forest-30.wav  \n",
            "  inflating: archive/Parsed_Not_Capuchinbird_Clips/afternoon-birds-song-in-forest-31.wav  \n",
            "  inflating: archive/Parsed_Not_Capuchinbird_Clips/afternoon-birds-song-in-forest-32.wav  \n",
            "  inflating: archive/Parsed_Not_Capuchinbird_Clips/afternoon-birds-song-in-forest-33.wav  \n",
            "  inflating: archive/Parsed_Not_Capuchinbird_Clips/afternoon-birds-song-in-forest-34.wav  \n",
            "  inflating: archive/Parsed_Not_Capuchinbird_Clips/afternoon-birds-song-in-forest-4.wav  \n",
            "  inflating: archive/Parsed_Not_Capuchinbird_Clips/afternoon-birds-song-in-forest-5.wav  \n",
            "  inflating: archive/Parsed_Not_Capuchinbird_Clips/afternoon-birds-song-in-forest-6.wav  \n",
            "  inflating: archive/Parsed_Not_Capuchinbird_Clips/afternoon-birds-song-in-forest-7.wav  \n",
            "  inflating: archive/Parsed_Not_Capuchinbird_Clips/afternoon-birds-song-in-forest-8.wav  \n",
            "  inflating: archive/Parsed_Not_Capuchinbird_Clips/afternoon-birds-song-in-forest-9.wav  \n",
            "  inflating: archive/Parsed_Not_Capuchinbird_Clips/birds-singing-in-forest-sounds-0.wav  \n",
            "  inflating: archive/Parsed_Not_Capuchinbird_Clips/birds-singing-in-forest-sounds-1.wav  \n",
            "  inflating: archive/Parsed_Not_Capuchinbird_Clips/birds-singing-in-forest-sounds-10.wav  \n",
            "  inflating: archive/Parsed_Not_Capuchinbird_Clips/birds-singing-in-forest-sounds-11.wav  \n",
            "  inflating: archive/Parsed_Not_Capuchinbird_Clips/birds-singing-in-forest-sounds-12.wav  \n",
            "  inflating: archive/Parsed_Not_Capuchinbird_Clips/birds-singing-in-forest-sounds-13.wav  \n",
            "  inflating: archive/Parsed_Not_Capuchinbird_Clips/birds-singing-in-forest-sounds-14.wav  \n",
            "  inflating: archive/Parsed_Not_Capuchinbird_Clips/birds-singing-in-forest-sounds-15.wav  \n",
            "  inflating: archive/Parsed_Not_Capuchinbird_Clips/birds-singing-in-forest-sounds-16.wav  \n",
            "  inflating: archive/Parsed_Not_Capuchinbird_Clips/birds-singing-in-forest-sounds-17.wav  \n",
            "  inflating: archive/Parsed_Not_Capuchinbird_Clips/birds-singing-in-forest-sounds-18.wav  \n",
            "  inflating: archive/Parsed_Not_Capuchinbird_Clips/birds-singing-in-forest-sounds-19.wav  \n",
            "  inflating: archive/Parsed_Not_Capuchinbird_Clips/birds-singing-in-forest-sounds-2.wav  \n",
            "  inflating: archive/Parsed_Not_Capuchinbird_Clips/birds-singing-in-forest-sounds-20.wav  \n",
            "  inflating: archive/Parsed_Not_Capuchinbird_Clips/birds-singing-in-forest-sounds-21.wav  \n",
            "  inflating: archive/Parsed_Not_Capuchinbird_Clips/birds-singing-in-forest-sounds-22.wav  \n",
            "  inflating: archive/Parsed_Not_Capuchinbird_Clips/birds-singing-in-forest-sounds-23.wav  \n",
            "  inflating: archive/Parsed_Not_Capuchinbird_Clips/birds-singing-in-forest-sounds-24.wav  \n",
            "  inflating: archive/Parsed_Not_Capuchinbird_Clips/birds-singing-in-forest-sounds-25.wav  \n",
            "  inflating: archive/Parsed_Not_Capuchinbird_Clips/birds-singing-in-forest-sounds-26.wav  \n",
            "  inflating: archive/Parsed_Not_Capuchinbird_Clips/birds-singing-in-forest-sounds-27.wav  \n",
            "  inflating: archive/Parsed_Not_Capuchinbird_Clips/birds-singing-in-forest-sounds-28.wav  \n",
            "  inflating: archive/Parsed_Not_Capuchinbird_Clips/birds-singing-in-forest-sounds-29.wav  \n",
            "  inflating: archive/Parsed_Not_Capuchinbird_Clips/birds-singing-in-forest-sounds-3.wav  \n",
            "  inflating: archive/Parsed_Not_Capuchinbird_Clips/birds-singing-in-forest-sounds-30.wav  \n",
            "  inflating: archive/Parsed_Not_Capuchinbird_Clips/birds-singing-in-forest-sounds-31.wav  \n",
            "  inflating: archive/Parsed_Not_Capuchinbird_Clips/birds-singing-in-forest-sounds-32.wav  \n",
            "  inflating: archive/Parsed_Not_Capuchinbird_Clips/birds-singing-in-forest-sounds-33.wav  \n",
            "  inflating: archive/Parsed_Not_Capuchinbird_Clips/birds-singing-in-forest-sounds-34.wav  \n",
            "  inflating: archive/Parsed_Not_Capuchinbird_Clips/birds-singing-in-forest-sounds-35.wav  \n",
            "  inflating: archive/Parsed_Not_Capuchinbird_Clips/birds-singing-in-forest-sounds-36.wav  \n",
            "  inflating: archive/Parsed_Not_Capuchinbird_Clips/birds-singing-in-forest-sounds-37.wav  \n",
            "  inflating: archive/Parsed_Not_Capuchinbird_Clips/birds-singing-in-forest-sounds-38.wav  \n",
            "  inflating: archive/Parsed_Not_Capuchinbird_Clips/birds-singing-in-forest-sounds-39.wav  \n",
            "  inflating: archive/Parsed_Not_Capuchinbird_Clips/birds-singing-in-forest-sounds-4.wav  \n",
            "  inflating: archive/Parsed_Not_Capuchinbird_Clips/birds-singing-in-forest-sounds-40.wav  \n",
            "  inflating: archive/Parsed_Not_Capuchinbird_Clips/birds-singing-in-forest-sounds-41.wav  \n",
            "  inflating: archive/Parsed_Not_Capuchinbird_Clips/birds-singing-in-forest-sounds-42.wav  \n",
            "  inflating: archive/Parsed_Not_Capuchinbird_Clips/birds-singing-in-forest-sounds-43.wav  \n",
            "  inflating: archive/Parsed_Not_Capuchinbird_Clips/birds-singing-in-forest-sounds-44.wav  \n",
            "  inflating: archive/Parsed_Not_Capuchinbird_Clips/birds-singing-in-forest-sounds-45.wav  \n",
            "  inflating: archive/Parsed_Not_Capuchinbird_Clips/birds-singing-in-forest-sounds-46.wav  \n",
            "  inflating: archive/Parsed_Not_Capuchinbird_Clips/birds-singing-in-forest-sounds-47.wav  \n",
            "  inflating: archive/Parsed_Not_Capuchinbird_Clips/birds-singing-in-forest-sounds-48.wav  \n",
            "  inflating: archive/Parsed_Not_Capuchinbird_Clips/birds-singing-in-forest-sounds-49.wav  \n",
            "  inflating: archive/Parsed_Not_Capuchinbird_Clips/birds-singing-in-forest-sounds-5.wav  \n",
            "  inflating: archive/Parsed_Not_Capuchinbird_Clips/birds-singing-in-forest-sounds-50.wav  \n",
            "  inflating: archive/Parsed_Not_Capuchinbird_Clips/birds-singing-in-forest-sounds-51.wav  \n",
            "  inflating: archive/Parsed_Not_Capuchinbird_Clips/birds-singing-in-forest-sounds-52.wav  \n",
            "  inflating: archive/Parsed_Not_Capuchinbird_Clips/birds-singing-in-forest-sounds-53.wav  \n",
            "  inflating: archive/Parsed_Not_Capuchinbird_Clips/birds-singing-in-forest-sounds-54.wav  \n",
            "  inflating: archive/Parsed_Not_Capuchinbird_Clips/birds-singing-in-forest-sounds-55.wav  \n",
            "  inflating: archive/Parsed_Not_Capuchinbird_Clips/birds-singing-in-forest-sounds-56.wav  \n",
            "  inflating: archive/Parsed_Not_Capuchinbird_Clips/birds-singing-in-forest-sounds-6.wav  \n",
            "  inflating: archive/Parsed_Not_Capuchinbird_Clips/birds-singing-in-forest-sounds-7.wav  \n",
            "  inflating: archive/Parsed_Not_Capuchinbird_Clips/birds-singing-in-forest-sounds-8.wav  \n",
            "  inflating: archive/Parsed_Not_Capuchinbird_Clips/birds-singing-in-forest-sounds-9.wav  \n",
            "  inflating: archive/Parsed_Not_Capuchinbird_Clips/bobwhite-quail-sound-0.wav  \n",
            "  inflating: archive/Parsed_Not_Capuchinbird_Clips/bobwhite-quail-sound-1.wav  \n",
            "  inflating: archive/Parsed_Not_Capuchinbird_Clips/bobwhite-quail-sound-10.wav  \n",
            "  inflating: archive/Parsed_Not_Capuchinbird_Clips/bobwhite-quail-sound-11.wav  \n",
            "  inflating: archive/Parsed_Not_Capuchinbird_Clips/bobwhite-quail-sound-12.wav  \n",
            "  inflating: archive/Parsed_Not_Capuchinbird_Clips/bobwhite-quail-sound-13.wav  \n",
            "  inflating: archive/Parsed_Not_Capuchinbird_Clips/bobwhite-quail-sound-14.wav  \n",
            "  inflating: archive/Parsed_Not_Capuchinbird_Clips/bobwhite-quail-sound-15.wav  \n",
            "  inflating: archive/Parsed_Not_Capuchinbird_Clips/bobwhite-quail-sound-16.wav  \n",
            "  inflating: archive/Parsed_Not_Capuchinbird_Clips/bobwhite-quail-sound-17.wav  \n",
            "  inflating: archive/Parsed_Not_Capuchinbird_Clips/bobwhite-quail-sound-18.wav  \n",
            "  inflating: archive/Parsed_Not_Capuchinbird_Clips/bobwhite-quail-sound-19.wav  \n",
            "  inflating: archive/Parsed_Not_Capuchinbird_Clips/bobwhite-quail-sound-2.wav  \n",
            "  inflating: archive/Parsed_Not_Capuchinbird_Clips/bobwhite-quail-sound-20.wav  \n",
            "  inflating: archive/Parsed_Not_Capuchinbird_Clips/bobwhite-quail-sound-3.wav  \n",
            "  inflating: archive/Parsed_Not_Capuchinbird_Clips/bobwhite-quail-sound-4.wav  \n",
            "  inflating: archive/Parsed_Not_Capuchinbird_Clips/bobwhite-quail-sound-5.wav  \n",
            "  inflating: archive/Parsed_Not_Capuchinbird_Clips/bobwhite-quail-sound-6.wav  \n",
            "  inflating: archive/Parsed_Not_Capuchinbird_Clips/bobwhite-quail-sound-7.wav  \n",
            "  inflating: archive/Parsed_Not_Capuchinbird_Clips/bobwhite-quail-sound-8.wav  \n",
            "  inflating: archive/Parsed_Not_Capuchinbird_Clips/bobwhite-quail-sound-9.wav  \n",
            "  inflating: archive/Parsed_Not_Capuchinbird_Clips/cardinal-bird-call-0.wav  \n",
            "  inflating: archive/Parsed_Not_Capuchinbird_Clips/cardinal-bird-call-1.wav  \n",
            "  inflating: archive/Parsed_Not_Capuchinbird_Clips/cardinal-bird-call-2.wav  \n",
            "  inflating: archive/Parsed_Not_Capuchinbird_Clips/cardinal-bird-call-3.wav  \n",
            "  inflating: archive/Parsed_Not_Capuchinbird_Clips/cicadas-noise-sound-effect-0.wav  \n",
            "  inflating: archive/Parsed_Not_Capuchinbird_Clips/cicadas-noise-sound-effect-1.wav  \n",
            "  inflating: archive/Parsed_Not_Capuchinbird_Clips/cicadas-noise-sound-effect-2.wav  \n",
            "  inflating: archive/Parsed_Not_Capuchinbird_Clips/cicadas-noise-sound-effect-3.wav  \n",
            "  inflating: archive/Parsed_Not_Capuchinbird_Clips/corncrake-sound-0.wav  \n",
            "  inflating: archive/Parsed_Not_Capuchinbird_Clips/corncrake-sound-1.wav  \n",
            "  inflating: archive/Parsed_Not_Capuchinbird_Clips/corncrake-sound-2.wav  \n",
            "  inflating: archive/Parsed_Not_Capuchinbird_Clips/cricket-sounds-for-sleep-0.wav  \n",
            "  inflating: archive/Parsed_Not_Capuchinbird_Clips/cricket-sounds-for-sleep-1.wav  \n",
            "  inflating: archive/Parsed_Not_Capuchinbird_Clips/cricket-sounds-for-sleep-10.wav  \n",
            "  inflating: archive/Parsed_Not_Capuchinbird_Clips/cricket-sounds-for-sleep-11.wav  \n",
            "  inflating: archive/Parsed_Not_Capuchinbird_Clips/cricket-sounds-for-sleep-12.wav  \n",
            "  inflating: archive/Parsed_Not_Capuchinbird_Clips/cricket-sounds-for-sleep-13.wav  \n",
            "  inflating: archive/Parsed_Not_Capuchinbird_Clips/cricket-sounds-for-sleep-14.wav  \n",
            "  inflating: archive/Parsed_Not_Capuchinbird_Clips/cricket-sounds-for-sleep-15.wav  \n",
            "  inflating: archive/Parsed_Not_Capuchinbird_Clips/cricket-sounds-for-sleep-16.wav  \n",
            "  inflating: archive/Parsed_Not_Capuchinbird_Clips/cricket-sounds-for-sleep-17.wav  \n",
            "  inflating: archive/Parsed_Not_Capuchinbird_Clips/cricket-sounds-for-sleep-18.wav  \n",
            "  inflating: archive/Parsed_Not_Capuchinbird_Clips/cricket-sounds-for-sleep-19.wav  \n",
            "  inflating: archive/Parsed_Not_Capuchinbird_Clips/cricket-sounds-for-sleep-2.wav  \n",
            "  inflating: archive/Parsed_Not_Capuchinbird_Clips/cricket-sounds-for-sleep-20.wav  \n",
            "  inflating: archive/Parsed_Not_Capuchinbird_Clips/cricket-sounds-for-sleep-21.wav  \n",
            "  inflating: archive/Parsed_Not_Capuchinbird_Clips/cricket-sounds-for-sleep-22.wav  \n",
            "  inflating: archive/Parsed_Not_Capuchinbird_Clips/cricket-sounds-for-sleep-23.wav  \n",
            "  inflating: archive/Parsed_Not_Capuchinbird_Clips/cricket-sounds-for-sleep-24.wav  \n",
            "  inflating: archive/Parsed_Not_Capuchinbird_Clips/cricket-sounds-for-sleep-25.wav  \n",
            "  inflating: archive/Parsed_Not_Capuchinbird_Clips/cricket-sounds-for-sleep-26.wav  \n",
            "  inflating: archive/Parsed_Not_Capuchinbird_Clips/cricket-sounds-for-sleep-27.wav  \n",
            "  inflating: archive/Parsed_Not_Capuchinbird_Clips/cricket-sounds-for-sleep-28.wav  \n",
            "  inflating: archive/Parsed_Not_Capuchinbird_Clips/cricket-sounds-for-sleep-29.wav  \n",
            "  inflating: archive/Parsed_Not_Capuchinbird_Clips/cricket-sounds-for-sleep-3.wav  \n",
            "  inflating: archive/Parsed_Not_Capuchinbird_Clips/cricket-sounds-for-sleep-30.wav  \n",
            "  inflating: archive/Parsed_Not_Capuchinbird_Clips/cricket-sounds-for-sleep-31.wav  \n",
            "  inflating: archive/Parsed_Not_Capuchinbird_Clips/cricket-sounds-for-sleep-32.wav  \n",
            "  inflating: archive/Parsed_Not_Capuchinbird_Clips/cricket-sounds-for-sleep-33.wav  \n",
            "  inflating: archive/Parsed_Not_Capuchinbird_Clips/cricket-sounds-for-sleep-34.wav  \n",
            "  inflating: archive/Parsed_Not_Capuchinbird_Clips/cricket-sounds-for-sleep-35.wav  \n",
            "  inflating: archive/Parsed_Not_Capuchinbird_Clips/cricket-sounds-for-sleep-36.wav  \n",
            "  inflating: archive/Parsed_Not_Capuchinbird_Clips/cricket-sounds-for-sleep-37.wav  \n",
            "  inflating: archive/Parsed_Not_Capuchinbird_Clips/cricket-sounds-for-sleep-38.wav  \n",
            "  inflating: archive/Parsed_Not_Capuchinbird_Clips/cricket-sounds-for-sleep-39.wav  \n",
            "  inflating: archive/Parsed_Not_Capuchinbird_Clips/cricket-sounds-for-sleep-4.wav  \n",
            "  inflating: archive/Parsed_Not_Capuchinbird_Clips/cricket-sounds-for-sleep-40.wav  \n",
            "  inflating: archive/Parsed_Not_Capuchinbird_Clips/cricket-sounds-for-sleep-41.wav  \n",
            "  inflating: archive/Parsed_Not_Capuchinbird_Clips/cricket-sounds-for-sleep-42.wav  \n",
            "  inflating: archive/Parsed_Not_Capuchinbird_Clips/cricket-sounds-for-sleep-43.wav  \n",
            "  inflating: archive/Parsed_Not_Capuchinbird_Clips/cricket-sounds-for-sleep-44.wav  \n",
            "  inflating: archive/Parsed_Not_Capuchinbird_Clips/cricket-sounds-for-sleep-45.wav  \n",
            "  inflating: archive/Parsed_Not_Capuchinbird_Clips/cricket-sounds-for-sleep-46.wav  \n",
            "  inflating: archive/Parsed_Not_Capuchinbird_Clips/cricket-sounds-for-sleep-47.wav  \n",
            "  inflating: archive/Parsed_Not_Capuchinbird_Clips/cricket-sounds-for-sleep-48.wav  \n",
            "  inflating: archive/Parsed_Not_Capuchinbird_Clips/cricket-sounds-for-sleep-49.wav  \n",
            "  inflating: archive/Parsed_Not_Capuchinbird_Clips/cricket-sounds-for-sleep-5.wav  \n",
            "  inflating: archive/Parsed_Not_Capuchinbird_Clips/cricket-sounds-for-sleep-50.wav  \n",
            "  inflating: archive/Parsed_Not_Capuchinbird_Clips/cricket-sounds-for-sleep-51.wav  \n",
            "  inflating: archive/Parsed_Not_Capuchinbird_Clips/cricket-sounds-for-sleep-52.wav  \n",
            "  inflating: archive/Parsed_Not_Capuchinbird_Clips/cricket-sounds-for-sleep-53.wav  \n",
            "  inflating: archive/Parsed_Not_Capuchinbird_Clips/cricket-sounds-for-sleep-54.wav  \n",
            "  inflating: archive/Parsed_Not_Capuchinbird_Clips/cricket-sounds-for-sleep-55.wav  \n",
            "  inflating: archive/Parsed_Not_Capuchinbird_Clips/cricket-sounds-for-sleep-56.wav  \n",
            "  inflating: archive/Parsed_Not_Capuchinbird_Clips/cricket-sounds-for-sleep-57.wav  \n",
            "  inflating: archive/Parsed_Not_Capuchinbird_Clips/cricket-sounds-for-sleep-58.wav  \n",
            "  inflating: archive/Parsed_Not_Capuchinbird_Clips/cricket-sounds-for-sleep-59.wav  \n",
            "  inflating: archive/Parsed_Not_Capuchinbird_Clips/cricket-sounds-for-sleep-6.wav  \n",
            "  inflating: archive/Parsed_Not_Capuchinbird_Clips/cricket-sounds-for-sleep-7.wav  \n",
            "  inflating: archive/Parsed_Not_Capuchinbird_Clips/cricket-sounds-for-sleep-8.wav  \n",
            "  inflating: archive/Parsed_Not_Capuchinbird_Clips/cricket-sounds-for-sleep-9.wav  \n",
            "  inflating: archive/Parsed_Not_Capuchinbird_Clips/Crickets-chirping-0.wav  \n",
            "  inflating: archive/Parsed_Not_Capuchinbird_Clips/Crickets-chirping-1.wav  \n",
            "  inflating: archive/Parsed_Not_Capuchinbird_Clips/Crickets-chirping-10.wav  \n",
            "  inflating: archive/Parsed_Not_Capuchinbird_Clips/Crickets-chirping-2.wav  \n",
            "  inflating: archive/Parsed_Not_Capuchinbird_Clips/Crickets-chirping-3.wav  \n",
            "  inflating: archive/Parsed_Not_Capuchinbird_Clips/Crickets-chirping-4.wav  \n",
            "  inflating: archive/Parsed_Not_Capuchinbird_Clips/Crickets-chirping-5.wav  \n",
            "  inflating: archive/Parsed_Not_Capuchinbird_Clips/Crickets-chirping-6.wav  \n",
            "  inflating: archive/Parsed_Not_Capuchinbird_Clips/Crickets-chirping-7.wav  \n",
            "  inflating: archive/Parsed_Not_Capuchinbird_Clips/Crickets-chirping-8.wav  \n",
            "  inflating: archive/Parsed_Not_Capuchinbird_Clips/Crickets-chirping-9.wav  \n",
            "  inflating: archive/Parsed_Not_Capuchinbird_Clips/Crickets-chirping-at-night-0.wav  \n",
            "  inflating: archive/Parsed_Not_Capuchinbird_Clips/Crickets-chirping-at-night-1.wav  \n",
            "  inflating: archive/Parsed_Not_Capuchinbird_Clips/Crickets-chirping-at-night-10.wav  \n",
            "  inflating: archive/Parsed_Not_Capuchinbird_Clips/Crickets-chirping-at-night-11.wav  \n",
            "  inflating: archive/Parsed_Not_Capuchinbird_Clips/Crickets-chirping-at-night-12.wav  \n",
            "  inflating: archive/Parsed_Not_Capuchinbird_Clips/Crickets-chirping-at-night-13.wav  \n",
            "  inflating: archive/Parsed_Not_Capuchinbird_Clips/Crickets-chirping-at-night-2.wav  \n",
            "  inflating: archive/Parsed_Not_Capuchinbird_Clips/Crickets-chirping-at-night-3.wav  \n",
            "  inflating: archive/Parsed_Not_Capuchinbird_Clips/Crickets-chirping-at-night-4.wav  \n",
            "  inflating: archive/Parsed_Not_Capuchinbird_Clips/Crickets-chirping-at-night-5.wav  \n",
            "  inflating: archive/Parsed_Not_Capuchinbird_Clips/Crickets-chirping-at-night-6.wav  \n",
            "  inflating: archive/Parsed_Not_Capuchinbird_Clips/Crickets-chirping-at-night-7.wav  \n",
            "  inflating: archive/Parsed_Not_Capuchinbird_Clips/Crickets-chirping-at-night-8.wav  \n",
            "  inflating: archive/Parsed_Not_Capuchinbird_Clips/Crickets-chirping-at-night-9.wav  \n",
            "  inflating: archive/Parsed_Not_Capuchinbird_Clips/crickets-chirping-crickets-sound-0.wav  \n",
            "  inflating: archive/Parsed_Not_Capuchinbird_Clips/crickets-chirping-crickets-sound-1.wav  \n",
            "  inflating: archive/Parsed_Not_Capuchinbird_Clips/crickets-chirping-crickets-sound-10.wav  \n",
            "  inflating: archive/Parsed_Not_Capuchinbird_Clips/crickets-chirping-crickets-sound-11.wav  \n",
            "  inflating: archive/Parsed_Not_Capuchinbird_Clips/crickets-chirping-crickets-sound-12.wav  \n",
            "  inflating: archive/Parsed_Not_Capuchinbird_Clips/crickets-chirping-crickets-sound-13.wav  \n",
            "  inflating: archive/Parsed_Not_Capuchinbird_Clips/crickets-chirping-crickets-sound-14.wav  \n",
            "  inflating: archive/Parsed_Not_Capuchinbird_Clips/crickets-chirping-crickets-sound-15.wav  \n",
            "  inflating: archive/Parsed_Not_Capuchinbird_Clips/crickets-chirping-crickets-sound-16.wav  \n",
            "  inflating: archive/Parsed_Not_Capuchinbird_Clips/crickets-chirping-crickets-sound-17.wav  \n",
            "  inflating: archive/Parsed_Not_Capuchinbird_Clips/crickets-chirping-crickets-sound-18.wav  \n",
            "  inflating: archive/Parsed_Not_Capuchinbird_Clips/crickets-chirping-crickets-sound-19.wav  \n",
            "  inflating: archive/Parsed_Not_Capuchinbird_Clips/crickets-chirping-crickets-sound-2.wav  \n",
            "  inflating: archive/Parsed_Not_Capuchinbird_Clips/crickets-chirping-crickets-sound-20.wav  \n",
            "  inflating: archive/Parsed_Not_Capuchinbird_Clips/crickets-chirping-crickets-sound-21.wav  \n",
            "  inflating: archive/Parsed_Not_Capuchinbird_Clips/crickets-chirping-crickets-sound-22.wav  \n",
            "  inflating: archive/Parsed_Not_Capuchinbird_Clips/crickets-chirping-crickets-sound-23.wav  \n",
            "  inflating: archive/Parsed_Not_Capuchinbird_Clips/crickets-chirping-crickets-sound-24.wav  \n",
            "  inflating: archive/Parsed_Not_Capuchinbird_Clips/crickets-chirping-crickets-sound-25.wav  \n",
            "  inflating: archive/Parsed_Not_Capuchinbird_Clips/crickets-chirping-crickets-sound-26.wav  \n",
            "  inflating: archive/Parsed_Not_Capuchinbird_Clips/crickets-chirping-crickets-sound-27.wav  \n",
            "  inflating: archive/Parsed_Not_Capuchinbird_Clips/crickets-chirping-crickets-sound-28.wav  \n",
            "  inflating: archive/Parsed_Not_Capuchinbird_Clips/crickets-chirping-crickets-sound-29.wav  \n",
            "  inflating: archive/Parsed_Not_Capuchinbird_Clips/crickets-chirping-crickets-sound-3.wav  \n",
            "  inflating: archive/Parsed_Not_Capuchinbird_Clips/crickets-chirping-crickets-sound-4.wav  \n",
            "  inflating: archive/Parsed_Not_Capuchinbird_Clips/crickets-chirping-crickets-sound-5.wav  \n",
            "  inflating: archive/Parsed_Not_Capuchinbird_Clips/crickets-chirping-crickets-sound-6.wav  \n",
            "  inflating: archive/Parsed_Not_Capuchinbird_Clips/crickets-chirping-crickets-sound-7.wav  \n",
            "  inflating: archive/Parsed_Not_Capuchinbird_Clips/crickets-chirping-crickets-sound-8.wav  \n",
            "  inflating: archive/Parsed_Not_Capuchinbird_Clips/crickets-chirping-crickets-sound-9.wav  \n",
            "  inflating: archive/Parsed_Not_Capuchinbird_Clips/crickets-chirping-noise-0.wav  \n",
            "  inflating: archive/Parsed_Not_Capuchinbird_Clips/crickets-chirping-noise-1.wav  \n",
            "  inflating: archive/Parsed_Not_Capuchinbird_Clips/crickets-chirping-noise-10.wav  \n",
            "  inflating: archive/Parsed_Not_Capuchinbird_Clips/crickets-chirping-noise-11.wav  \n",
            "  inflating: archive/Parsed_Not_Capuchinbird_Clips/crickets-chirping-noise-12.wav  \n",
            "  inflating: archive/Parsed_Not_Capuchinbird_Clips/crickets-chirping-noise-13.wav  \n",
            "  inflating: archive/Parsed_Not_Capuchinbird_Clips/crickets-chirping-noise-14.wav  \n",
            "  inflating: archive/Parsed_Not_Capuchinbird_Clips/crickets-chirping-noise-15.wav  \n",
            "  inflating: archive/Parsed_Not_Capuchinbird_Clips/crickets-chirping-noise-16.wav  \n",
            "  inflating: archive/Parsed_Not_Capuchinbird_Clips/crickets-chirping-noise-17.wav  \n",
            "  inflating: archive/Parsed_Not_Capuchinbird_Clips/crickets-chirping-noise-18.wav  \n",
            "  inflating: archive/Parsed_Not_Capuchinbird_Clips/crickets-chirping-noise-19.wav  \n",
            "  inflating: archive/Parsed_Not_Capuchinbird_Clips/crickets-chirping-noise-2.wav  \n",
            "  inflating: archive/Parsed_Not_Capuchinbird_Clips/crickets-chirping-noise-20.wav  \n",
            "  inflating: archive/Parsed_Not_Capuchinbird_Clips/crickets-chirping-noise-21.wav  \n",
            "  inflating: archive/Parsed_Not_Capuchinbird_Clips/crickets-chirping-noise-3.wav  \n",
            "  inflating: archive/Parsed_Not_Capuchinbird_Clips/crickets-chirping-noise-4.wav  \n",
            "  inflating: archive/Parsed_Not_Capuchinbird_Clips/crickets-chirping-noise-5.wav  \n",
            "  inflating: archive/Parsed_Not_Capuchinbird_Clips/crickets-chirping-noise-6.wav  \n",
            "  inflating: archive/Parsed_Not_Capuchinbird_Clips/crickets-chirping-noise-7.wav  \n",
            "  inflating: archive/Parsed_Not_Capuchinbird_Clips/crickets-chirping-noise-8.wav  \n",
            "  inflating: archive/Parsed_Not_Capuchinbird_Clips/crickets-chirping-noise-9.wav  \n",
            "  inflating: archive/Parsed_Not_Capuchinbird_Clips/crickets-sound-effect-0.wav  \n",
            "  inflating: archive/Parsed_Not_Capuchinbird_Clips/crickets-sound-effect-1.wav  \n",
            "  inflating: archive/Parsed_Not_Capuchinbird_Clips/crickets-sound-effect-10.wav  \n",
            "  inflating: archive/Parsed_Not_Capuchinbird_Clips/crickets-sound-effect-11.wav  \n",
            "  inflating: archive/Parsed_Not_Capuchinbird_Clips/crickets-sound-effect-12.wav  \n",
            "  inflating: archive/Parsed_Not_Capuchinbird_Clips/crickets-sound-effect-13.wav  \n",
            "  inflating: archive/Parsed_Not_Capuchinbird_Clips/crickets-sound-effect-14.wav  \n",
            "  inflating: archive/Parsed_Not_Capuchinbird_Clips/crickets-sound-effect-15.wav  \n",
            "  inflating: archive/Parsed_Not_Capuchinbird_Clips/crickets-sound-effect-16.wav  \n",
            "  inflating: archive/Parsed_Not_Capuchinbird_Clips/crickets-sound-effect-17.wav  \n",
            "  inflating: archive/Parsed_Not_Capuchinbird_Clips/crickets-sound-effect-18.wav  \n",
            "  inflating: archive/Parsed_Not_Capuchinbird_Clips/crickets-sound-effect-19.wav  \n",
            "  inflating: archive/Parsed_Not_Capuchinbird_Clips/crickets-sound-effect-2.wav  \n",
            "  inflating: archive/Parsed_Not_Capuchinbird_Clips/crickets-sound-effect-20.wav  \n",
            "  inflating: archive/Parsed_Not_Capuchinbird_Clips/crickets-sound-effect-21.wav  \n",
            "  inflating: archive/Parsed_Not_Capuchinbird_Clips/crickets-sound-effect-22.wav  \n",
            "  inflating: archive/Parsed_Not_Capuchinbird_Clips/crickets-sound-effect-23.wav  \n",
            "  inflating: archive/Parsed_Not_Capuchinbird_Clips/crickets-sound-effect-24.wav  \n",
            "  inflating: archive/Parsed_Not_Capuchinbird_Clips/crickets-sound-effect-25.wav  \n",
            "  inflating: archive/Parsed_Not_Capuchinbird_Clips/crickets-sound-effect-26.wav  \n",
            "  inflating: archive/Parsed_Not_Capuchinbird_Clips/crickets-sound-effect-27.wav  \n",
            "  inflating: archive/Parsed_Not_Capuchinbird_Clips/crickets-sound-effect-28.wav  \n",
            "  inflating: archive/Parsed_Not_Capuchinbird_Clips/crickets-sound-effect-29.wav  \n",
            "  inflating: archive/Parsed_Not_Capuchinbird_Clips/crickets-sound-effect-3.wav  \n",
            "  inflating: archive/Parsed_Not_Capuchinbird_Clips/crickets-sound-effect-30.wav  \n",
            "  inflating: archive/Parsed_Not_Capuchinbird_Clips/crickets-sound-effect-31.wav  \n",
            "  inflating: archive/Parsed_Not_Capuchinbird_Clips/crickets-sound-effect-32.wav  \n",
            "  inflating: archive/Parsed_Not_Capuchinbird_Clips/crickets-sound-effect-33.wav  \n",
            "  inflating: archive/Parsed_Not_Capuchinbird_Clips/crickets-sound-effect-34.wav  \n",
            "  inflating: archive/Parsed_Not_Capuchinbird_Clips/crickets-sound-effect-4.wav  \n",
            "  inflating: archive/Parsed_Not_Capuchinbird_Clips/crickets-sound-effect-5.wav  \n",
            "  inflating: archive/Parsed_Not_Capuchinbird_Clips/crickets-sound-effect-6.wav  \n",
            "  inflating: archive/Parsed_Not_Capuchinbird_Clips/crickets-sound-effect-7.wav  \n",
            "  inflating: archive/Parsed_Not_Capuchinbird_Clips/crickets-sound-effect-8.wav  \n",
            "  inflating: archive/Parsed_Not_Capuchinbird_Clips/crickets-sound-effect-9.wav  \n",
            "  inflating: archive/Parsed_Not_Capuchinbird_Clips/crow-cawing-sound-effect-0.wav  \n",
            "  inflating: archive/Parsed_Not_Capuchinbird_Clips/crow-cawing-sound-effect-1.wav  \n",
            "  inflating: archive/Parsed_Not_Capuchinbird_Clips/crow-cawing-sound-effect-10.wav  \n",
            "  inflating: archive/Parsed_Not_Capuchinbird_Clips/crow-cawing-sound-effect-11.wav  \n",
            "  inflating: archive/Parsed_Not_Capuchinbird_Clips/crow-cawing-sound-effect-12.wav  \n",
            "  inflating: archive/Parsed_Not_Capuchinbird_Clips/crow-cawing-sound-effect-13.wav  \n",
            "  inflating: archive/Parsed_Not_Capuchinbird_Clips/crow-cawing-sound-effect-14.wav  \n",
            "  inflating: archive/Parsed_Not_Capuchinbird_Clips/crow-cawing-sound-effect-15.wav  \n",
            "  inflating: archive/Parsed_Not_Capuchinbird_Clips/crow-cawing-sound-effect-2.wav  \n",
            "  inflating: archive/Parsed_Not_Capuchinbird_Clips/crow-cawing-sound-effect-3.wav  \n",
            "  inflating: archive/Parsed_Not_Capuchinbird_Clips/crow-cawing-sound-effect-4.wav  \n",
            "  inflating: archive/Parsed_Not_Capuchinbird_Clips/crow-cawing-sound-effect-5.wav  \n",
            "  inflating: archive/Parsed_Not_Capuchinbird_Clips/crow-cawing-sound-effect-6.wav  \n",
            "  inflating: archive/Parsed_Not_Capuchinbird_Clips/crow-cawing-sound-effect-7.wav  \n",
            "  inflating: archive/Parsed_Not_Capuchinbird_Clips/crow-cawing-sound-effect-8.wav  \n",
            "  inflating: archive/Parsed_Not_Capuchinbird_Clips/crow-cawing-sound-effect-9.wav  \n",
            "  inflating: archive/Parsed_Not_Capuchinbird_Clips/curlew-sound-0.wav  \n",
            "  inflating: archive/Parsed_Not_Capuchinbird_Clips/curlew-sound-1.wav  \n",
            "  inflating: archive/Parsed_Not_Capuchinbird_Clips/curlew-sound-2.wav  \n",
            "  inflating: archive/Parsed_Not_Capuchinbird_Clips/curlew-sound-3.wav  \n",
            "  inflating: archive/Parsed_Not_Capuchinbird_Clips/curlew-sound-4.wav  \n",
            "  inflating: archive/Parsed_Not_Capuchinbird_Clips/dove-bird-call-sound-0.wav  \n",
            "  inflating: archive/Parsed_Not_Capuchinbird_Clips/dove-bird-call-sound-1.wav  \n",
            "  inflating: archive/Parsed_Not_Capuchinbird_Clips/dove-bird-call-sound-2.wav  \n",
            "  inflating: archive/Parsed_Not_Capuchinbird_Clips/dove-bird-sounds-0.wav  \n",
            "  inflating: archive/Parsed_Not_Capuchinbird_Clips/dove-bird-sounds-1.wav  \n",
            "  inflating: archive/Parsed_Not_Capuchinbird_Clips/dove-bird-sounds-2.wav  \n",
            "  inflating: archive/Parsed_Not_Capuchinbird_Clips/dove-bird-sounds-3.wav  \n",
            "  inflating: archive/Parsed_Not_Capuchinbird_Clips/dove-bird-sounds-4.wav  \n",
            "  inflating: archive/Parsed_Not_Capuchinbird_Clips/dove-bird-sounds-5.wav  \n",
            "  inflating: archive/Parsed_Not_Capuchinbird_Clips/dove-bird-sounds-6.wav  \n",
            "  inflating: archive/Parsed_Not_Capuchinbird_Clips/dove-bird-sounds-7.wav  \n",
            "  inflating: archive/Parsed_Not_Capuchinbird_Clips/dove-bird-sounds-8.wav  \n",
            "  inflating: archive/Parsed_Not_Capuchinbird_Clips/dove-bird-sounds-9.wav  \n",
            "  inflating: archive/Parsed_Not_Capuchinbird_Clips/dove-sound-effect-0.wav  \n",
            "  inflating: archive/Parsed_Not_Capuchinbird_Clips/dove-sound-effect-1.wav  \n",
            "  inflating: archive/Parsed_Not_Capuchinbird_Clips/dove-sound-effect-2.wav  \n",
            "  inflating: archive/Parsed_Not_Capuchinbird_Clips/flock-of-pigeons-cooing-sound-effect-0.wav  \n",
            "  inflating: archive/Parsed_Not_Capuchinbird_Clips/flock-of-pigeons-cooing-sound-effect-1.wav  \n",
            "  inflating: archive/Parsed_Not_Capuchinbird_Clips/flock-of-pigeons-cooing-sound-effect-2.wav  \n",
            "  inflating: archive/Parsed_Not_Capuchinbird_Clips/flock-of-pigeons-cooing-sound-effect-3.wav  \n",
            "  inflating: archive/Parsed_Not_Capuchinbird_Clips/flock-of-pigeons-cooing-sound-effect-4.wav  \n",
            "  inflating: archive/Parsed_Not_Capuchinbird_Clips/flock-of-pigeons-cooing-sound-effect-5.wav  \n",
            "  inflating: archive/Parsed_Not_Capuchinbird_Clips/flock-of-pigeons-cooing-sound-effect-6.wav  \n",
            "  inflating: archive/Parsed_Not_Capuchinbird_Clips/forest-birds-and-insects-sound-effect-0.wav  \n",
            "  inflating: archive/Parsed_Not_Capuchinbird_Clips/forest-birds-and-insects-sound-effect-1.wav  \n",
            "  inflating: archive/Parsed_Not_Capuchinbird_Clips/forest-birds-and-insects-sound-effect-2.wav  \n",
            "  inflating: archive/Parsed_Not_Capuchinbird_Clips/forest-birds-and-insects-sound-effect-3.wav  \n",
            "  inflating: archive/Parsed_Not_Capuchinbird_Clips/forest-birds-and-insects-sound-effect-4.wav  \n",
            "  inflating: archive/Parsed_Not_Capuchinbird_Clips/killdeer-sound-0.wav  \n",
            "  inflating: archive/Parsed_Not_Capuchinbird_Clips/killdeer-sound-1.wav  \n",
            "  inflating: archive/Parsed_Not_Capuchinbird_Clips/killdeer-sound-2.wav  \n",
            "  inflating: archive/Parsed_Not_Capuchinbird_Clips/killdeer-sound-3.wav  \n",
            "  inflating: archive/Parsed_Not_Capuchinbird_Clips/killdeer-sound-4.wav  \n",
            "  inflating: archive/Parsed_Not_Capuchinbird_Clips/killdeer-sound-5.wav  \n",
            "  inflating: archive/Parsed_Not_Capuchinbird_Clips/killdeer-sound-6.wav  \n",
            "  inflating: archive/Parsed_Not_Capuchinbird_Clips/killdeer-sound-7.wav  \n",
            "  inflating: archive/Parsed_Not_Capuchinbird_Clips/killdeer-sound-8.wav  \n",
            "  inflating: archive/Parsed_Not_Capuchinbird_Clips/killdeer-sound-9.wav  \n",
            "  inflating: archive/Parsed_Not_Capuchinbird_Clips/magpie-call-sound-effect-0.wav  \n",
            "  inflating: archive/Parsed_Not_Capuchinbird_Clips/magpie-call-sound-effect-1.wav  \n",
            "  inflating: archive/Parsed_Not_Capuchinbird_Clips/magpies-and-crows-cawing-sound-effect-0.wav  \n",
            "  inflating: archive/Parsed_Not_Capuchinbird_Clips/magpies-and-crows-cawing-sound-effect-1.wav  \n",
            "  inflating: archive/Parsed_Not_Capuchinbird_Clips/magpies-and-crows-cawing-sound-effect-10.wav  \n",
            "  inflating: archive/Parsed_Not_Capuchinbird_Clips/magpies-and-crows-cawing-sound-effect-11.wav  \n",
            "  inflating: archive/Parsed_Not_Capuchinbird_Clips/magpies-and-crows-cawing-sound-effect-12.wav  \n",
            "  inflating: archive/Parsed_Not_Capuchinbird_Clips/magpies-and-crows-cawing-sound-effect-13.wav  \n",
            "  inflating: archive/Parsed_Not_Capuchinbird_Clips/magpies-and-crows-cawing-sound-effect-14.wav  \n",
            "  inflating: archive/Parsed_Not_Capuchinbird_Clips/magpies-and-crows-cawing-sound-effect-15.wav  \n",
            "  inflating: archive/Parsed_Not_Capuchinbird_Clips/magpies-and-crows-cawing-sound-effect-16.wav  \n",
            "  inflating: archive/Parsed_Not_Capuchinbird_Clips/magpies-and-crows-cawing-sound-effect-17.wav  \n",
            "  inflating: archive/Parsed_Not_Capuchinbird_Clips/magpies-and-crows-cawing-sound-effect-18.wav  \n",
            "  inflating: archive/Parsed_Not_Capuchinbird_Clips/magpies-and-crows-cawing-sound-effect-19.wav  \n",
            "  inflating: archive/Parsed_Not_Capuchinbird_Clips/magpies-and-crows-cawing-sound-effect-2.wav  \n",
            "  inflating: archive/Parsed_Not_Capuchinbird_Clips/magpies-and-crows-cawing-sound-effect-20.wav  \n",
            "  inflating: archive/Parsed_Not_Capuchinbird_Clips/magpies-and-crows-cawing-sound-effect-21.wav  \n",
            "  inflating: archive/Parsed_Not_Capuchinbird_Clips/magpies-and-crows-cawing-sound-effect-3.wav  \n",
            "  inflating: archive/Parsed_Not_Capuchinbird_Clips/magpies-and-crows-cawing-sound-effect-4.wav  \n",
            "  inflating: archive/Parsed_Not_Capuchinbird_Clips/magpies-and-crows-cawing-sound-effect-5.wav  \n",
            "  inflating: archive/Parsed_Not_Capuchinbird_Clips/magpies-and-crows-cawing-sound-effect-6.wav  \n",
            "  inflating: archive/Parsed_Not_Capuchinbird_Clips/magpies-and-crows-cawing-sound-effect-7.wav  \n",
            "  inflating: archive/Parsed_Not_Capuchinbird_Clips/magpies-and-crows-cawing-sound-effect-8.wav  \n",
            "  inflating: archive/Parsed_Not_Capuchinbird_Clips/magpies-and-crows-cawing-sound-effect-9.wav  \n",
            "  inflating: archive/Parsed_Not_Capuchinbird_Clips/night-insect-sounds-0.wav  \n",
            "  inflating: archive/Parsed_Not_Capuchinbird_Clips/night-insect-sounds-1.wav  \n",
            "  inflating: archive/Parsed_Not_Capuchinbird_Clips/night-insect-sounds-10.wav  \n",
            "  inflating: archive/Parsed_Not_Capuchinbird_Clips/night-insect-sounds-11.wav  \n",
            "  inflating: archive/Parsed_Not_Capuchinbird_Clips/night-insect-sounds-12.wav  \n",
            "  inflating: archive/Parsed_Not_Capuchinbird_Clips/night-insect-sounds-13.wav  \n",
            "  inflating: archive/Parsed_Not_Capuchinbird_Clips/night-insect-sounds-14.wav  \n",
            "  inflating: archive/Parsed_Not_Capuchinbird_Clips/night-insect-sounds-15.wav  \n",
            "  inflating: archive/Parsed_Not_Capuchinbird_Clips/night-insect-sounds-16.wav  \n",
            "  inflating: archive/Parsed_Not_Capuchinbird_Clips/night-insect-sounds-17.wav  \n",
            "  inflating: archive/Parsed_Not_Capuchinbird_Clips/night-insect-sounds-18.wav  \n",
            "  inflating: archive/Parsed_Not_Capuchinbird_Clips/night-insect-sounds-19.wav  \n",
            "  inflating: archive/Parsed_Not_Capuchinbird_Clips/night-insect-sounds-2.wav  \n",
            "  inflating: archive/Parsed_Not_Capuchinbird_Clips/night-insect-sounds-20.wav  \n",
            "  inflating: archive/Parsed_Not_Capuchinbird_Clips/night-insect-sounds-21.wav  \n",
            "  inflating: archive/Parsed_Not_Capuchinbird_Clips/night-insect-sounds-22.wav  \n",
            "  inflating: archive/Parsed_Not_Capuchinbird_Clips/night-insect-sounds-23.wav  \n",
            "  inflating: archive/Parsed_Not_Capuchinbird_Clips/night-insect-sounds-24.wav  \n",
            "  inflating: archive/Parsed_Not_Capuchinbird_Clips/night-insect-sounds-25.wav  \n",
            "  inflating: archive/Parsed_Not_Capuchinbird_Clips/night-insect-sounds-26.wav  \n",
            "  inflating: archive/Parsed_Not_Capuchinbird_Clips/night-insect-sounds-27.wav  \n",
            "  inflating: archive/Parsed_Not_Capuchinbird_Clips/night-insect-sounds-28.wav  \n",
            "  inflating: archive/Parsed_Not_Capuchinbird_Clips/night-insect-sounds-29.wav  \n",
            "  inflating: archive/Parsed_Not_Capuchinbird_Clips/night-insect-sounds-3.wav  \n",
            "  inflating: archive/Parsed_Not_Capuchinbird_Clips/night-insect-sounds-30.wav  \n",
            "  inflating: archive/Parsed_Not_Capuchinbird_Clips/night-insect-sounds-31.wav  \n",
            "  inflating: archive/Parsed_Not_Capuchinbird_Clips/night-insect-sounds-32.wav  \n",
            "  inflating: archive/Parsed_Not_Capuchinbird_Clips/night-insect-sounds-33.wav  \n",
            "  inflating: archive/Parsed_Not_Capuchinbird_Clips/night-insect-sounds-34.wav  \n",
            "  inflating: archive/Parsed_Not_Capuchinbird_Clips/night-insect-sounds-35.wav  \n",
            "  inflating: archive/Parsed_Not_Capuchinbird_Clips/night-insect-sounds-36.wav  \n",
            "  inflating: archive/Parsed_Not_Capuchinbird_Clips/night-insect-sounds-37.wav  \n",
            "  inflating: archive/Parsed_Not_Capuchinbird_Clips/night-insect-sounds-38.wav  \n",
            "  inflating: archive/Parsed_Not_Capuchinbird_Clips/night-insect-sounds-39.wav  \n",
            "  inflating: archive/Parsed_Not_Capuchinbird_Clips/night-insect-sounds-4.wav  \n",
            "  inflating: archive/Parsed_Not_Capuchinbird_Clips/night-insect-sounds-40.wav  \n",
            "  inflating: archive/Parsed_Not_Capuchinbird_Clips/night-insect-sounds-41.wav  \n",
            "  inflating: archive/Parsed_Not_Capuchinbird_Clips/night-insect-sounds-42.wav  \n",
            "  inflating: archive/Parsed_Not_Capuchinbird_Clips/night-insect-sounds-43.wav  \n",
            "  inflating: archive/Parsed_Not_Capuchinbird_Clips/night-insect-sounds-44.wav  \n",
            "  inflating: archive/Parsed_Not_Capuchinbird_Clips/night-insect-sounds-45.wav  \n",
            "  inflating: archive/Parsed_Not_Capuchinbird_Clips/night-insect-sounds-46.wav  \n",
            "  inflating: archive/Parsed_Not_Capuchinbird_Clips/night-insect-sounds-47.wav  \n",
            "  inflating: archive/Parsed_Not_Capuchinbird_Clips/night-insect-sounds-48.wav  \n",
            "  inflating: archive/Parsed_Not_Capuchinbird_Clips/night-insect-sounds-49.wav  \n",
            "  inflating: archive/Parsed_Not_Capuchinbird_Clips/night-insect-sounds-5.wav  \n",
            "  inflating: archive/Parsed_Not_Capuchinbird_Clips/night-insect-sounds-50.wav  \n",
            "  inflating: archive/Parsed_Not_Capuchinbird_Clips/night-insect-sounds-51.wav  \n",
            "  inflating: archive/Parsed_Not_Capuchinbird_Clips/night-insect-sounds-52.wav  \n",
            "  inflating: archive/Parsed_Not_Capuchinbird_Clips/night-insect-sounds-6.wav  \n",
            "  inflating: archive/Parsed_Not_Capuchinbird_Clips/night-insect-sounds-7.wav  \n",
            "  inflating: archive/Parsed_Not_Capuchinbird_Clips/night-insect-sounds-8.wav  \n",
            "  inflating: archive/Parsed_Not_Capuchinbird_Clips/night-insect-sounds-9.wav  \n",
            "  inflating: archive/Parsed_Not_Capuchinbird_Clips/pheasant-sound-0.wav  \n",
            "  inflating: archive/Parsed_Not_Capuchinbird_Clips/pheasant-sound-1.wav  \n",
            "  inflating: archive/Parsed_Not_Capuchinbird_Clips/pheasant-sound-2.wav  \n",
            "  inflating: archive/Parsed_Not_Capuchinbird_Clips/pheasant-sound-3.wav  \n",
            "  inflating: archive/Parsed_Not_Capuchinbird_Clips/pond-bird-call-sound-effect-0.wav  \n",
            "  inflating: archive/Parsed_Not_Capuchinbird_Clips/rain-thunder-and-crickets-sound-effect-0.wav  \n",
            "  inflating: archive/Parsed_Not_Capuchinbird_Clips/rain-thunder-and-crickets-sound-effect-1.wav  \n",
            "  inflating: archive/Parsed_Not_Capuchinbird_Clips/rain-thunder-and-crickets-sound-effect-10.wav  \n",
            "  inflating: archive/Parsed_Not_Capuchinbird_Clips/rain-thunder-and-crickets-sound-effect-11.wav  \n",
            "  inflating: archive/Parsed_Not_Capuchinbird_Clips/rain-thunder-and-crickets-sound-effect-12.wav  \n",
            "  inflating: archive/Parsed_Not_Capuchinbird_Clips/rain-thunder-and-crickets-sound-effect-13.wav  \n",
            "  inflating: archive/Parsed_Not_Capuchinbird_Clips/rain-thunder-and-crickets-sound-effect-14.wav  \n",
            "  inflating: archive/Parsed_Not_Capuchinbird_Clips/rain-thunder-and-crickets-sound-effect-15.wav  \n",
            "  inflating: archive/Parsed_Not_Capuchinbird_Clips/rain-thunder-and-crickets-sound-effect-16.wav  \n",
            "  inflating: archive/Parsed_Not_Capuchinbird_Clips/rain-thunder-and-crickets-sound-effect-17.wav  \n",
            "  inflating: archive/Parsed_Not_Capuchinbird_Clips/rain-thunder-and-crickets-sound-effect-18.wav  \n",
            "  inflating: archive/Parsed_Not_Capuchinbird_Clips/rain-thunder-and-crickets-sound-effect-19.wav  \n",
            "  inflating: archive/Parsed_Not_Capuchinbird_Clips/rain-thunder-and-crickets-sound-effect-2.wav  \n",
            "  inflating: archive/Parsed_Not_Capuchinbird_Clips/rain-thunder-and-crickets-sound-effect-20.wav  \n",
            "  inflating: archive/Parsed_Not_Capuchinbird_Clips/rain-thunder-and-crickets-sound-effect-21.wav  \n",
            "  inflating: archive/Parsed_Not_Capuchinbird_Clips/rain-thunder-and-crickets-sound-effect-22.wav  \n",
            "  inflating: archive/Parsed_Not_Capuchinbird_Clips/rain-thunder-and-crickets-sound-effect-23.wav  \n",
            "  inflating: archive/Parsed_Not_Capuchinbird_Clips/rain-thunder-and-crickets-sound-effect-24.wav  \n",
            "  inflating: archive/Parsed_Not_Capuchinbird_Clips/rain-thunder-and-crickets-sound-effect-25.wav  \n",
            "  inflating: archive/Parsed_Not_Capuchinbird_Clips/rain-thunder-and-crickets-sound-effect-26.wav  \n",
            "  inflating: archive/Parsed_Not_Capuchinbird_Clips/rain-thunder-and-crickets-sound-effect-27.wav  \n",
            "  inflating: archive/Parsed_Not_Capuchinbird_Clips/rain-thunder-and-crickets-sound-effect-28.wav  \n",
            "  inflating: archive/Parsed_Not_Capuchinbird_Clips/rain-thunder-and-crickets-sound-effect-29.wav  \n",
            "  inflating: archive/Parsed_Not_Capuchinbird_Clips/rain-thunder-and-crickets-sound-effect-3.wav  \n",
            "  inflating: archive/Parsed_Not_Capuchinbird_Clips/rain-thunder-and-crickets-sound-effect-30.wav  \n",
            "  inflating: archive/Parsed_Not_Capuchinbird_Clips/rain-thunder-and-crickets-sound-effect-31.wav  \n",
            "  inflating: archive/Parsed_Not_Capuchinbird_Clips/rain-thunder-and-crickets-sound-effect-32.wav  \n",
            "  inflating: archive/Parsed_Not_Capuchinbird_Clips/rain-thunder-and-crickets-sound-effect-33.wav  \n",
            "  inflating: archive/Parsed_Not_Capuchinbird_Clips/rain-thunder-and-crickets-sound-effect-34.wav  \n",
            "  inflating: archive/Parsed_Not_Capuchinbird_Clips/rain-thunder-and-crickets-sound-effect-35.wav  \n",
            "  inflating: archive/Parsed_Not_Capuchinbird_Clips/rain-thunder-and-crickets-sound-effect-36.wav  \n",
            "  inflating: archive/Parsed_Not_Capuchinbird_Clips/rain-thunder-and-crickets-sound-effect-37.wav  \n",
            "  inflating: archive/Parsed_Not_Capuchinbird_Clips/rain-thunder-and-crickets-sound-effect-38.wav  \n",
            "  inflating: archive/Parsed_Not_Capuchinbird_Clips/rain-thunder-and-crickets-sound-effect-39.wav  \n",
            "  inflating: archive/Parsed_Not_Capuchinbird_Clips/rain-thunder-and-crickets-sound-effect-4.wav  \n",
            "  inflating: archive/Parsed_Not_Capuchinbird_Clips/rain-thunder-and-crickets-sound-effect-40.wav  \n",
            "  inflating: archive/Parsed_Not_Capuchinbird_Clips/rain-thunder-and-crickets-sound-effect-41.wav  \n",
            "  inflating: archive/Parsed_Not_Capuchinbird_Clips/rain-thunder-and-crickets-sound-effect-42.wav  \n",
            "  inflating: archive/Parsed_Not_Capuchinbird_Clips/rain-thunder-and-crickets-sound-effect-43.wav  \n",
            "  inflating: archive/Parsed_Not_Capuchinbird_Clips/rain-thunder-and-crickets-sound-effect-44.wav  \n",
            "  inflating: archive/Parsed_Not_Capuchinbird_Clips/rain-thunder-and-crickets-sound-effect-45.wav  \n",
            "  inflating: archive/Parsed_Not_Capuchinbird_Clips/rain-thunder-and-crickets-sound-effect-46.wav  \n",
            "  inflating: archive/Parsed_Not_Capuchinbird_Clips/rain-thunder-and-crickets-sound-effect-47.wav  \n",
            "  inflating: archive/Parsed_Not_Capuchinbird_Clips/rain-thunder-and-crickets-sound-effect-5.wav  \n",
            "  inflating: archive/Parsed_Not_Capuchinbird_Clips/rain-thunder-and-crickets-sound-effect-6.wav  \n",
            "  inflating: archive/Parsed_Not_Capuchinbird_Clips/rain-thunder-and-crickets-sound-effect-7.wav  \n",
            "  inflating: archive/Parsed_Not_Capuchinbird_Clips/rain-thunder-and-crickets-sound-effect-8.wav  \n",
            "  inflating: archive/Parsed_Not_Capuchinbird_Clips/rain-thunder-and-crickets-sound-effect-9.wav  \n",
            "  inflating: archive/Parsed_Not_Capuchinbird_Clips/robin-chirping-0.wav  \n",
            "  inflating: archive/Parsed_Not_Capuchinbird_Clips/robin-chirping-1.wav  \n",
            "  inflating: archive/Parsed_Not_Capuchinbird_Clips/robin-chirping-10.wav  \n",
            "  inflating: archive/Parsed_Not_Capuchinbird_Clips/robin-chirping-11.wav  \n",
            "  inflating: archive/Parsed_Not_Capuchinbird_Clips/robin-chirping-12.wav  \n",
            "  inflating: archive/Parsed_Not_Capuchinbird_Clips/robin-chirping-13.wav  \n",
            "  inflating: archive/Parsed_Not_Capuchinbird_Clips/robin-chirping-14.wav  \n",
            "  inflating: archive/Parsed_Not_Capuchinbird_Clips/robin-chirping-15.wav  \n",
            "  inflating: archive/Parsed_Not_Capuchinbird_Clips/robin-chirping-16.wav  \n",
            "  inflating: archive/Parsed_Not_Capuchinbird_Clips/robin-chirping-17.wav  \n",
            "  inflating: archive/Parsed_Not_Capuchinbird_Clips/robin-chirping-18.wav  \n",
            "  inflating: archive/Parsed_Not_Capuchinbird_Clips/robin-chirping-19.wav  \n",
            "  inflating: archive/Parsed_Not_Capuchinbird_Clips/robin-chirping-2.wav  \n",
            "  inflating: archive/Parsed_Not_Capuchinbird_Clips/robin-chirping-20.wav  \n",
            "  inflating: archive/Parsed_Not_Capuchinbird_Clips/robin-chirping-21.wav  \n",
            "  inflating: archive/Parsed_Not_Capuchinbird_Clips/robin-chirping-22.wav  \n",
            "  inflating: archive/Parsed_Not_Capuchinbird_Clips/robin-chirping-23.wav  \n",
            "  inflating: archive/Parsed_Not_Capuchinbird_Clips/robin-chirping-24.wav  \n",
            "  inflating: archive/Parsed_Not_Capuchinbird_Clips/robin-chirping-25.wav  \n",
            "  inflating: archive/Parsed_Not_Capuchinbird_Clips/robin-chirping-26.wav  \n",
            "  inflating: archive/Parsed_Not_Capuchinbird_Clips/robin-chirping-27.wav  \n",
            "  inflating: archive/Parsed_Not_Capuchinbird_Clips/robin-chirping-28.wav  \n",
            "  inflating: archive/Parsed_Not_Capuchinbird_Clips/robin-chirping-29.wav  \n",
            "  inflating: archive/Parsed_Not_Capuchinbird_Clips/robin-chirping-3.wav  \n",
            "  inflating: archive/Parsed_Not_Capuchinbird_Clips/robin-chirping-30.wav  \n",
            "  inflating: archive/Parsed_Not_Capuchinbird_Clips/robin-chirping-31.wav  \n",
            "  inflating: archive/Parsed_Not_Capuchinbird_Clips/robin-chirping-32.wav  \n",
            "  inflating: archive/Parsed_Not_Capuchinbird_Clips/robin-chirping-33.wav  \n",
            "  inflating: archive/Parsed_Not_Capuchinbird_Clips/robin-chirping-4.wav  \n",
            "  inflating: archive/Parsed_Not_Capuchinbird_Clips/robin-chirping-5.wav  \n",
            "  inflating: archive/Parsed_Not_Capuchinbird_Clips/robin-chirping-6.wav  \n",
            "  inflating: archive/Parsed_Not_Capuchinbird_Clips/robin-chirping-7.wav  \n",
            "  inflating: archive/Parsed_Not_Capuchinbird_Clips/robin-chirping-8.wav  \n",
            "  inflating: archive/Parsed_Not_Capuchinbird_Clips/robin-chirping-9.wav  \n",
            "  inflating: archive/Parsed_Not_Capuchinbird_Clips/rooster-call-sound-0.wav  \n",
            "  inflating: archive/Parsed_Not_Capuchinbird_Clips/screech-owl-sounds-at-night-0.wav  \n",
            "  inflating: archive/Parsed_Not_Capuchinbird_Clips/screech-owl-sounds-at-night-1.wav  \n",
            "  inflating: archive/Parsed_Not_Capuchinbird_Clips/screech-owl-sounds-at-night-2.wav  \n",
            "  inflating: archive/Parsed_Not_Capuchinbird_Clips/screech-owl-sounds-at-night-3.wav  \n",
            "  inflating: archive/Parsed_Not_Capuchinbird_Clips/screech-owl-sounds-at-night-4.wav  \n",
            "  inflating: archive/Parsed_Not_Capuchinbird_Clips/screech-owl-sounds-at-night-5.wav  \n",
            "  inflating: archive/Parsed_Not_Capuchinbird_Clips/screech-owl-sounds-at-night-6.wav  \n",
            "  inflating: archive/Parsed_Not_Capuchinbird_Clips/screech-owl-sounds-at-night-7.wav  \n",
            "  inflating: archive/Parsed_Not_Capuchinbird_Clips/seagull-sound-in-distance-0.wav  \n",
            "  inflating: archive/Parsed_Not_Capuchinbird_Clips/seagull-sound-in-distance-1.wav  \n",
            "  inflating: archive/Parsed_Not_Capuchinbird_Clips/sparrow-sound-effect-0.wav  \n",
            "  inflating: archive/Parsed_Not_Capuchinbird_Clips/sparrow-sound-effect-1.wav  \n",
            "  inflating: archive/Parsed_Not_Capuchinbird_Clips/sparrow-sound-effect-10.wav  \n",
            "  inflating: archive/Parsed_Not_Capuchinbird_Clips/sparrow-sound-effect-11.wav  \n",
            "  inflating: archive/Parsed_Not_Capuchinbird_Clips/sparrow-sound-effect-12.wav  \n",
            "  inflating: archive/Parsed_Not_Capuchinbird_Clips/sparrow-sound-effect-13.wav  \n",
            "  inflating: archive/Parsed_Not_Capuchinbird_Clips/sparrow-sound-effect-14.wav  \n",
            "  inflating: archive/Parsed_Not_Capuchinbird_Clips/sparrow-sound-effect-15.wav  \n",
            "  inflating: archive/Parsed_Not_Capuchinbird_Clips/sparrow-sound-effect-16.wav  \n",
            "  inflating: archive/Parsed_Not_Capuchinbird_Clips/sparrow-sound-effect-17.wav  \n",
            "  inflating: archive/Parsed_Not_Capuchinbird_Clips/sparrow-sound-effect-18.wav  \n",
            "  inflating: archive/Parsed_Not_Capuchinbird_Clips/sparrow-sound-effect-19.wav  \n",
            "  inflating: archive/Parsed_Not_Capuchinbird_Clips/sparrow-sound-effect-2.wav  \n",
            "  inflating: archive/Parsed_Not_Capuchinbird_Clips/sparrow-sound-effect-20.wav  \n",
            "  inflating: archive/Parsed_Not_Capuchinbird_Clips/sparrow-sound-effect-21.wav  \n",
            "  inflating: archive/Parsed_Not_Capuchinbird_Clips/sparrow-sound-effect-22.wav  \n",
            "  inflating: archive/Parsed_Not_Capuchinbird_Clips/sparrow-sound-effect-23.wav  \n",
            "  inflating: archive/Parsed_Not_Capuchinbird_Clips/sparrow-sound-effect-24.wav  \n",
            "  inflating: archive/Parsed_Not_Capuchinbird_Clips/sparrow-sound-effect-25.wav  \n",
            "  inflating: archive/Parsed_Not_Capuchinbird_Clips/sparrow-sound-effect-26.wav  \n",
            "  inflating: archive/Parsed_Not_Capuchinbird_Clips/sparrow-sound-effect-27.wav  \n",
            "  inflating: archive/Parsed_Not_Capuchinbird_Clips/sparrow-sound-effect-28.wav  \n",
            "  inflating: archive/Parsed_Not_Capuchinbird_Clips/sparrow-sound-effect-29.wav  \n",
            "  inflating: archive/Parsed_Not_Capuchinbird_Clips/sparrow-sound-effect-3.wav  \n",
            "  inflating: archive/Parsed_Not_Capuchinbird_Clips/sparrow-sound-effect-30.wav  \n",
            "  inflating: archive/Parsed_Not_Capuchinbird_Clips/sparrow-sound-effect-31.wav  \n",
            "  inflating: archive/Parsed_Not_Capuchinbird_Clips/sparrow-sound-effect-32.wav  \n",
            "  inflating: archive/Parsed_Not_Capuchinbird_Clips/sparrow-sound-effect-33.wav  \n",
            "  inflating: archive/Parsed_Not_Capuchinbird_Clips/sparrow-sound-effect-34.wav  \n",
            "  inflating: archive/Parsed_Not_Capuchinbird_Clips/sparrow-sound-effect-35.wav  \n",
            "  inflating: archive/Parsed_Not_Capuchinbird_Clips/sparrow-sound-effect-36.wav  \n",
            "  inflating: archive/Parsed_Not_Capuchinbird_Clips/sparrow-sound-effect-37.wav  \n",
            "  inflating: archive/Parsed_Not_Capuchinbird_Clips/sparrow-sound-effect-38.wav  \n",
            "  inflating: archive/Parsed_Not_Capuchinbird_Clips/sparrow-sound-effect-39.wav  \n",
            "  inflating: archive/Parsed_Not_Capuchinbird_Clips/sparrow-sound-effect-4.wav  \n",
            "  inflating: archive/Parsed_Not_Capuchinbird_Clips/sparrow-sound-effect-40.wav  \n",
            "  inflating: archive/Parsed_Not_Capuchinbird_Clips/sparrow-sound-effect-41.wav  \n",
            "  inflating: archive/Parsed_Not_Capuchinbird_Clips/sparrow-sound-effect-42.wav  \n",
            "  inflating: archive/Parsed_Not_Capuchinbird_Clips/sparrow-sound-effect-43.wav  \n",
            "  inflating: archive/Parsed_Not_Capuchinbird_Clips/sparrow-sound-effect-44.wav  \n",
            "  inflating: archive/Parsed_Not_Capuchinbird_Clips/sparrow-sound-effect-45.wav  \n",
            "  inflating: archive/Parsed_Not_Capuchinbird_Clips/sparrow-sound-effect-46.wav  \n",
            "  inflating: archive/Parsed_Not_Capuchinbird_Clips/sparrow-sound-effect-47.wav  \n",
            "  inflating: archive/Parsed_Not_Capuchinbird_Clips/sparrow-sound-effect-48.wav  \n",
            "  inflating: archive/Parsed_Not_Capuchinbird_Clips/sparrow-sound-effect-49.wav  \n",
            "  inflating: archive/Parsed_Not_Capuchinbird_Clips/sparrow-sound-effect-5.wav  \n",
            "  inflating: archive/Parsed_Not_Capuchinbird_Clips/sparrow-sound-effect-50.wav  \n",
            "  inflating: archive/Parsed_Not_Capuchinbird_Clips/sparrow-sound-effect-51.wav  \n",
            "  inflating: archive/Parsed_Not_Capuchinbird_Clips/sparrow-sound-effect-6.wav  \n",
            "  inflating: archive/Parsed_Not_Capuchinbird_Clips/sparrow-sound-effect-7.wav  \n",
            "  inflating: archive/Parsed_Not_Capuchinbird_Clips/sparrow-sound-effect-8.wav  \n",
            "  inflating: archive/Parsed_Not_Capuchinbird_Clips/sparrow-sound-effect-9.wav  \n",
            "  inflating: archive/Parsed_Not_Capuchinbird_Clips/spooky-owl-sound-effect-0.wav  \n",
            "  inflating: archive/Parsed_Not_Capuchinbird_Clips/tawny-owl-sounds-0.wav  \n",
            "  inflating: archive/Parsed_Not_Capuchinbird_Clips/tawny-owl-sounds-1.wav  \n",
            "  inflating: archive/Parsed_Not_Capuchinbird_Clips/tawny-owl-sounds-2.wav  \n",
            "  inflating: archive/Parsed_Not_Capuchinbird_Clips/tawny-owl-sounds-3.wav  \n",
            "  inflating: archive/Parsed_Not_Capuchinbird_Clips/tawny-owl-sounds-4.wav  \n",
            "  inflating: archive/Parsed_Not_Capuchinbird_Clips/tawny-owl-sounds-5.wav  \n",
            "  inflating: archive/Parsed_Not_Capuchinbird_Clips/tawny-owl-sounds-6.wav  \n",
            "  inflating: archive/Parsed_Not_Capuchinbird_Clips/tawny-owl-sounds-7.wav  \n",
            "  inflating: archive/Parsed_Not_Capuchinbird_Clips/tawny-owl-sounds-8.wav  \n",
            "  inflating: archive/Parsed_Not_Capuchinbird_Clips/tawny-owl-sounds-9.wav  \n"
          ]
        }
      ]
    },
    {
      "cell_type": "code",
      "execution_count": 5,
      "id": "356ed4f1-1cc1-4b18-b7c3-acd4b32f9caa",
      "metadata": {
        "id": "356ed4f1-1cc1-4b18-b7c3-acd4b32f9caa"
      },
      "outputs": [],
      "source": [
        "import os\n",
        "from matplotlib import pyplot as plt\n",
        "import tensorflow as tf \n",
        "import tensorflow_io as tfio"
      ]
    },
    {
      "cell_type": "markdown",
      "source": [
        "# **Build Data Loading Function**"
      ],
      "metadata": {
        "id": "7NOIvPUG2NEG"
      },
      "id": "7NOIvPUG2NEG"
    },
    {
      "cell_type": "markdown",
      "source": [
        "### **Paths of Files**"
      ],
      "metadata": {
        "id": "OmtJyLo_iVh5"
      },
      "id": "OmtJyLo_iVh5"
    },
    {
      "cell_type": "code",
      "source": [
        "CAPUCHIN_FILE = '/content/archive/Parsed_Capuchinbird_Clips/XC3776-3.wav'\n",
        "NOT_CAPUCHIN_FILE = '/content/archive/Parsed_Not_Capuchinbird_Clips/afternoon-birds-song-in-forest-0.wav'"
      ],
      "metadata": {
        "id": "98274CRLar1g"
      },
      "id": "98274CRLar1g",
      "execution_count": 6,
      "outputs": []
    },
    {
      "cell_type": "code",
      "source": [
        "NOT_CAPUCHIN_FILE"
      ],
      "metadata": {
        "colab": {
          "base_uri": "https://localhost:8080/",
          "height": 36
        },
        "id": "GMla54Kjep5M",
        "outputId": "33e9347e-a550-4eb2-bb85-437812d889aa"
      },
      "id": "GMla54Kjep5M",
      "execution_count": 7,
      "outputs": [
        {
          "output_type": "execute_result",
          "data": {
            "text/plain": [
              "'/content/archive/Parsed_Not_Capuchinbird_Clips/afternoon-birds-song-in-forest-0.wav'"
            ],
            "application/vnd.google.colaboratory.intrinsic+json": {
              "type": "string"
            }
          },
          "metadata": {},
          "execution_count": 7
        }
      ]
    },
    {
      "cell_type": "markdown",
      "source": [
        "### **Build Dataloading Function**"
      ],
      "metadata": {
        "id": "YSVu0ILkiNF3"
      },
      "id": "YSVu0ILkiNF3"
    },
    {
      "cell_type": "code",
      "source": [
        "def load_wav_16k_mono(filename): \n",
        "    file_contents = tf.io.read_file(filename) # Load encoded wav file\n",
        "    wav, sample_rate = tf.audio.decode_wav(file_contents, desired_channels=1) # Decode wav (tensors by channels) \n",
        "    wav = tf.squeeze(wav, axis=-1) # Removes trailing axis\n",
        "    sample_rate = tf.cast(sample_rate, dtype=tf.int64)  \n",
        "    wav = tfio.audio.resample(wav, rate_in=sample_rate, rate_out=16000) # Goes from 44100Hz to 16000hz - amplitude of the audio signal\n",
        "    return wav"
      ],
      "metadata": {
        "id": "NGLlSv_iasD5"
      },
      "id": "NGLlSv_iasD5",
      "execution_count": 8,
      "outputs": []
    },
    {
      "cell_type": "code",
      "source": [
        "file_contents =tf.io.read_file(CAPUCHIN_FILE)"
      ],
      "metadata": {
        "id": "IExUO5rUfYFg"
      },
      "id": "IExUO5rUfYFg",
      "execution_count": 9,
      "outputs": []
    },
    {
      "cell_type": "code",
      "source": [
        "wav, sample_rate = tf.audio.decode_wav(file_contents, desired_channels=1)"
      ],
      "metadata": {
        "id": "QD68Eyajffuz"
      },
      "id": "QD68Eyajffuz",
      "execution_count": 10,
      "outputs": []
    },
    {
      "cell_type": "code",
      "source": [
        "sample_rate"
      ],
      "metadata": {
        "colab": {
          "base_uri": "https://localhost:8080/"
        },
        "id": "KrMiWQbaffi-",
        "outputId": "b2410b6b-4658-4a4b-e941-5949fe18dfa6"
      },
      "id": "KrMiWQbaffi-",
      "execution_count": 11,
      "outputs": [
        {
          "output_type": "execute_result",
          "data": {
            "text/plain": [
              "<tf.Tensor: shape=(), dtype=int32, numpy=44100>"
            ]
          },
          "metadata": {},
          "execution_count": 11
        }
      ]
    },
    {
      "cell_type": "markdown",
      "source": [
        "### **Plot Wave**"
      ],
      "metadata": {
        "id": "pD7cK8DZh5h3"
      },
      "id": "pD7cK8DZh5h3"
    },
    {
      "cell_type": "code",
      "source": [
        "wave = load_wav_16k_mono(CAPUCHIN_FILE)\n",
        "nwave = load_wav_16k_mono(NOT_CAPUCHIN_FILE)"
      ],
      "metadata": {
        "id": "SYJLcRV_asLp"
      },
      "id": "SYJLcRV_asLp",
      "execution_count": 12,
      "outputs": []
    },
    {
      "cell_type": "code",
      "source": [
        "wave"
      ],
      "metadata": {
        "id": "fU7n8v84zu4y",
        "outputId": "11a29f70-435a-43ae-b45d-96f128c382d7",
        "colab": {
          "base_uri": "https://localhost:8080/"
        }
      },
      "id": "fU7n8v84zu4y",
      "execution_count": 13,
      "outputs": [
        {
          "output_type": "execute_result",
          "data": {
            "text/plain": [
              "<tf.Tensor: shape=(48000,), dtype=float32, numpy=\n",
              "array([ 8.9910554e-07, -2.7947258e-06,  7.0741157e-06, ...,\n",
              "       -1.0823049e-02, -3.5766482e-03,  1.5143131e-02], dtype=float32)>"
            ]
          },
          "metadata": {},
          "execution_count": 13
        }
      ]
    },
    {
      "cell_type": "code",
      "source": [
        "plt.plot(wave)\n",
        "plt.plot(nwave)\n",
        "plt.show()"
      ],
      "metadata": {
        "id": "TWNwFLQCxcrS",
        "outputId": "8610922a-29af-4a4e-c661-4bc72bcba82f",
        "colab": {
          "base_uri": "https://localhost:8080/",
          "height": 265
        }
      },
      "id": "TWNwFLQCxcrS",
      "execution_count": 14,
      "outputs": [
        {
          "output_type": "display_data",
          "data": {
            "text/plain": [
              "<Figure size 432x288 with 1 Axes>"
            ],
            "image/png": "[encoded data removed]"
          },
          "metadata": {
            "needs_background": "light"
          }
        }
      ]
    },
    {
      "cell_type": "markdown",
      "source": [
        "# **Create Tensorflow Dataset**"
      ],
      "metadata": {
        "id": "gKbXE6E5yHxy"
      },
      "id": "gKbXE6E5yHxy"
    },
    {
      "cell_type": "code",
      "source": [
        "POS = '/content/archive/Parsed_Capuchinbird_Clips'\n",
        "NEG = '/content/archive/Parsed_Not_Capuchinbird_Clips'"
      ],
      "metadata": {
        "id": "YpZFHiLUxtTH"
      },
      "id": "YpZFHiLUxtTH",
      "execution_count": 15,
      "outputs": []
    },
    {
      "cell_type": "code",
      "source": [
        "pos = tf.data.Dataset.list_files(POS+'/*.wav')\n",
        "neg = tf.data.Dataset.list_files(NEG+'/*.wav')"
      ],
      "metadata": {
        "id": "OnOL5j-dxte9"
      },
      "id": "OnOL5j-dxte9",
      "execution_count": 16,
      "outputs": []
    },
    {
      "cell_type": "code",
      "source": [
        "pos.as_numpy_iterator().next()"
      ],
      "metadata": {
        "id": "eCCYJi5IxtpZ",
        "outputId": "d92142f4-b1dc-4a26-d2d4-23e2e024b187",
        "colab": {
          "base_uri": "https://localhost:8080/"
        }
      },
      "id": "eCCYJi5IxtpZ",
      "execution_count": 17,
      "outputs": [
        {
          "output_type": "execute_result",
          "data": {
            "text/plain": [
              "b'/content/archive/Parsed_Capuchinbird_Clips/XC44070-0.wav'"
            ]
          },
          "metadata": {},
          "execution_count": 17
        }
      ]
    },
    {
      "cell_type": "code",
      "source": [
        "len(pos)"
      ],
      "metadata": {
        "id": "ukktC1UPtnYe",
        "outputId": "a545bfd8-5e63-443e-8cdf-3ae8a553c279",
        "colab": {
          "base_uri": "https://localhost:8080/"
        }
      },
      "id": "ukktC1UPtnYe",
      "execution_count": 18,
      "outputs": [
        {
          "output_type": "execute_result",
          "data": {
            "text/plain": [
              "217"
            ]
          },
          "metadata": {},
          "execution_count": 18
        }
      ]
    },
    {
      "cell_type": "code",
      "source": [
        "tf.ones(len(pos))"
      ],
      "metadata": {
        "id": "Kjv7Gfwft_jm",
        "outputId": "ddb7bd45-4ca6-4389-89bb-59c543613691",
        "colab": {
          "base_uri": "https://localhost:8080/"
        }
      },
      "id": "Kjv7Gfwft_jm",
      "execution_count": 19,
      "outputs": [
        {
          "output_type": "execute_result",
          "data": {
            "text/plain": [
              "<tf.Tensor: shape=(217,), dtype=float32, numpy=\n",
              "array([1., 1., 1., 1., 1., 1., 1., 1., 1., 1., 1., 1., 1., 1., 1., 1., 1.,\n",
              "       1., 1., 1., 1., 1., 1., 1., 1., 1., 1., 1., 1., 1., 1., 1., 1., 1.,\n",
              "       1., 1., 1., 1., 1., 1., 1., 1., 1., 1., 1., 1., 1., 1., 1., 1., 1.,\n",
              "       1., 1., 1., 1., 1., 1., 1., 1., 1., 1., 1., 1., 1., 1., 1., 1., 1.,\n",
              "       1., 1., 1., 1., 1., 1., 1., 1., 1., 1., 1., 1., 1., 1., 1., 1., 1.,\n",
              "       1., 1., 1., 1., 1., 1., 1., 1., 1., 1., 1., 1., 1., 1., 1., 1., 1.,\n",
              "       1., 1., 1., 1., 1., 1., 1., 1., 1., 1., 1., 1., 1., 1., 1., 1., 1.,\n",
              "       1., 1., 1., 1., 1., 1., 1., 1., 1., 1., 1., 1., 1., 1., 1., 1., 1.,\n",
              "       1., 1., 1., 1., 1., 1., 1., 1., 1., 1., 1., 1., 1., 1., 1., 1., 1.,\n",
              "       1., 1., 1., 1., 1., 1., 1., 1., 1., 1., 1., 1., 1., 1., 1., 1., 1.,\n",
              "       1., 1., 1., 1., 1., 1., 1., 1., 1., 1., 1., 1., 1., 1., 1., 1., 1.,\n",
              "       1., 1., 1., 1., 1., 1., 1., 1., 1., 1., 1., 1., 1., 1., 1., 1., 1.,\n",
              "       1., 1., 1., 1., 1., 1., 1., 1., 1., 1., 1., 1., 1.], dtype=float32)>"
            ]
          },
          "metadata": {},
          "execution_count": 19
        }
      ]
    },
    {
      "cell_type": "code",
      "source": [
        "tf.zeros(len(neg))"
      ],
      "metadata": {
        "id": "HCv2_Pwxuv36",
        "outputId": "48a93a3a-8aec-43b7-d438-7828a646b2b6",
        "colab": {
          "base_uri": "https://localhost:8080/"
        }
      },
      "id": "HCv2_Pwxuv36",
      "execution_count": 20,
      "outputs": [
        {
          "output_type": "execute_result",
          "data": {
            "text/plain": [
              "<tf.Tensor: shape=(593,), dtype=float32, numpy=\n",
              "array([0., 0., 0., 0., 0., 0., 0., 0., 0., 0., 0., 0., 0., 0., 0., 0., 0.,\n",
              "       0., 0., 0., 0., 0., 0., 0., 0., 0., 0., 0., 0., 0., 0., 0., 0., 0.,\n",
              "       0., 0., 0., 0., 0., 0., 0., 0., 0., 0., 0., 0., 0., 0., 0., 0., 0.,\n",
              "       0., 0., 0., 0., 0., 0., 0., 0., 0., 0., 0., 0., 0., 0., 0., 0., 0.,\n",
              "       0., 0., 0., 0., 0., 0., 0., 0., 0., 0., 0., 0., 0., 0., 0., 0., 0.,\n",
              "       0., 0., 0., 0., 0., 0., 0., 0., 0., 0., 0., 0., 0., 0., 0., 0., 0.,\n",
              "       0., 0., 0., 0., 0., 0., 0., 0., 0., 0., 0., 0., 0., 0., 0., 0., 0.,\n",
              "       0., 0., 0., 0., 0., 0., 0., 0., 0., 0., 0., 0., 0., 0., 0., 0., 0.,\n",
              "       0., 0., 0., 0., 0., 0., 0., 0., 0., 0., 0., 0., 0., 0., 0., 0., 0.,\n",
              "       0., 0., 0., 0., 0., 0., 0., 0., 0., 0., 0., 0., 0., 0., 0., 0., 0.,\n",
              "       0., 0., 0., 0., 0., 0., 0., 0., 0., 0., 0., 0., 0., 0., 0., 0., 0.,\n",
              "       0., 0., 0., 0., 0., 0., 0., 0., 0., 0., 0., 0., 0., 0., 0., 0., 0.,\n",
              "       0., 0., 0., 0., 0., 0., 0., 0., 0., 0., 0., 0., 0., 0., 0., 0., 0.,\n",
              "       0., 0., 0., 0., 0., 0., 0., 0., 0., 0., 0., 0., 0., 0., 0., 0., 0.,\n",
              "       0., 0., 0., 0., 0., 0., 0., 0., 0., 0., 0., 0., 0., 0., 0., 0., 0.,\n",
              "       0., 0., 0., 0., 0., 0., 0., 0., 0., 0., 0., 0., 0., 0., 0., 0., 0.,\n",
              "       0., 0., 0., 0., 0., 0., 0., 0., 0., 0., 0., 0., 0., 0., 0., 0., 0.,\n",
              "       0., 0., 0., 0., 0., 0., 0., 0., 0., 0., 0., 0., 0., 0., 0., 0., 0.,\n",
              "       0., 0., 0., 0., 0., 0., 0., 0., 0., 0., 0., 0., 0., 0., 0., 0., 0.,\n",
              "       0., 0., 0., 0., 0., 0., 0., 0., 0., 0., 0., 0., 0., 0., 0., 0., 0.,\n",
              "       0., 0., 0., 0., 0., 0., 0., 0., 0., 0., 0., 0., 0., 0., 0., 0., 0.,\n",
              "       0., 0., 0., 0., 0., 0., 0., 0., 0., 0., 0., 0., 0., 0., 0., 0., 0.,\n",
              "       0., 0., 0., 0., 0., 0., 0., 0., 0., 0., 0., 0., 0., 0., 0., 0., 0.,\n",
              "       0., 0., 0., 0., 0., 0., 0., 0., 0., 0., 0., 0., 0., 0., 0., 0., 0.,\n",
              "       0., 0., 0., 0., 0., 0., 0., 0., 0., 0., 0., 0., 0., 0., 0., 0., 0.,\n",
              "       0., 0., 0., 0., 0., 0., 0., 0., 0., 0., 0., 0., 0., 0., 0., 0., 0.,\n",
              "       0., 0., 0., 0., 0., 0., 0., 0., 0., 0., 0., 0., 0., 0., 0., 0., 0.,\n",
              "       0., 0., 0., 0., 0., 0., 0., 0., 0., 0., 0., 0., 0., 0., 0., 0., 0.,\n",
              "       0., 0., 0., 0., 0., 0., 0., 0., 0., 0., 0., 0., 0., 0., 0., 0., 0.,\n",
              "       0., 0., 0., 0., 0., 0., 0., 0., 0., 0., 0., 0., 0., 0., 0., 0., 0.,\n",
              "       0., 0., 0., 0., 0., 0., 0., 0., 0., 0., 0., 0., 0., 0., 0., 0., 0.,\n",
              "       0., 0., 0., 0., 0., 0., 0., 0., 0., 0., 0., 0., 0., 0., 0., 0., 0.,\n",
              "       0., 0., 0., 0., 0., 0., 0., 0., 0., 0., 0., 0., 0., 0., 0., 0., 0.,\n",
              "       0., 0., 0., 0., 0., 0., 0., 0., 0., 0., 0., 0., 0., 0., 0., 0., 0.,\n",
              "       0., 0., 0., 0., 0., 0., 0., 0., 0., 0., 0., 0., 0., 0., 0.],\n",
              "      dtype=float32)>"
            ]
          },
          "metadata": {},
          "execution_count": 20
        }
      ]
    },
    {
      "cell_type": "markdown",
      "source": [
        "### **Add labels and Combine Positive and Negative Samples**"
      ],
      "metadata": {
        "id": "5lSn3YRktJ6n"
      },
      "id": "5lSn3YRktJ6n"
    },
    {
      "cell_type": "code",
      "source": [
        "positives = tf.data.Dataset.zip((pos, tf.data.Dataset.from_tensor_slices(tf.ones(len(pos)))))\n",
        "negatives = tf.data.Dataset.zip((neg, tf.data.Dataset.from_tensor_slices(tf.zeros(len(neg)))))\n",
        "data = positives.concatenate(negatives)"
      ],
      "metadata": {
        "id": "FeQXzpDHxt09"
      },
      "id": "FeQXzpDHxt09",
      "execution_count": 21,
      "outputs": []
    },
    {
      "cell_type": "code",
      "source": [
        "positives.as_numpy_iterator().next()"
      ],
      "metadata": {
        "id": "VB_gJZfFt8w7",
        "outputId": "29ac67b4-f244-422b-c205-8b73330af49a",
        "colab": {
          "base_uri": "https://localhost:8080/"
        }
      },
      "id": "VB_gJZfFt8w7",
      "execution_count": 22,
      "outputs": [
        {
          "output_type": "execute_result",
          "data": {
            "text/plain": [
              "(b'/content/archive/Parsed_Capuchinbird_Clips/XC65196-3.wav', 1.0)"
            ]
          },
          "metadata": {},
          "execution_count": 22
        }
      ]
    },
    {
      "cell_type": "code",
      "source": [
        "negatives.as_numpy_iterator().next()"
      ],
      "metadata": {
        "id": "6rR-wvitt8uQ",
        "outputId": "1ad3c244-f4d2-4394-c080-59d7d68ac0ba",
        "colab": {
          "base_uri": "https://localhost:8080/"
        }
      },
      "id": "6rR-wvitt8uQ",
      "execution_count": 23,
      "outputs": [
        {
          "output_type": "execute_result",
          "data": {
            "text/plain": [
              "(b'/content/archive/Parsed_Not_Capuchinbird_Clips/tawny-owl-sounds-2.wav', 0.0)"
            ]
          },
          "metadata": {},
          "execution_count": 23
        }
      ]
    },
    {
      "cell_type": "code",
      "source": [
        "data.as_numpy_iterator().next()"
      ],
      "metadata": {
        "id": "b5jkF9VRt8rn",
        "outputId": "4ef9880c-7f72-4c86-c9bb-a09c4691c3ee",
        "colab": {
          "base_uri": "https://localhost:8080/"
        }
      },
      "id": "b5jkF9VRt8rn",
      "execution_count": 24,
      "outputs": [
        {
          "output_type": "execute_result",
          "data": {
            "text/plain": [
              "(b'/content/archive/Parsed_Capuchinbird_Clips/XC520626-0.wav', 1.0)"
            ]
          },
          "metadata": {},
          "execution_count": 24
        }
      ]
    },
    {
      "cell_type": "code",
      "source": [
        "data.shuffle(1000).as_numpy_iterator().next()"
      ],
      "metadata": {
        "id": "fIsOPzRnt8oz",
        "outputId": "890c1a55-a994-41aa-e27c-240298640a32",
        "colab": {
          "base_uri": "https://localhost:8080/"
        }
      },
      "id": "fIsOPzRnt8oz",
      "execution_count": 25,
      "outputs": [
        {
          "output_type": "execute_result",
          "data": {
            "text/plain": [
              "(b'/content/archive/Parsed_Not_Capuchinbird_Clips/tawny-owl-sounds-4.wav', 0.0)"
            ]
          },
          "metadata": {},
          "execution_count": 25
        }
      ]
    },
    {
      "cell_type": "markdown",
      "source": [
        "# **Determine Average Length of a Capuchin Call**"
      ],
      "metadata": {
        "id": "9R4JzD0gygTT"
      },
      "id": "9R4JzD0gygTT"
    },
    {
      "cell_type": "code",
      "source": [
        "lengths = [] # amplitude\n",
        "for file in os.listdir('/content/archive/Parsed_Capuchinbird_Clips'):\n",
        "    tensor_wave = load_wav_16k_mono(f'/content/archive/Parsed_Capuchinbird_Clips/{file}')\n",
        "    lengths.append(len(tensor_wave))"
      ],
      "metadata": {
        "id": "JOoz3L8Aye87",
        "outputId": "95d8fefa-5b37-4a80-9686-86a18f9bc831",
        "colab": {
          "base_uri": "https://localhost:8080/"
        }
      },
      "id": "JOoz3L8Aye87",
      "execution_count": 26,
      "outputs": [
        {
          "output_type": "stream",
          "name": "stderr",
          "text": [
            "WARNING:tensorflow:5 out of the last 5 calls to <function pfor.<locals>.f at 0x7f8a697c61f0> triggered tf.function retracing. Tracing is expensive and the excessive number of tracings could be due to (1) creating @tf.function repeatedly in a loop, (2) passing tensors with different shapes, (3) passing Python objects instead of tensors. For (1), please define your @tf.function outside of the loop. For (2), @tf.function has reduce_retracing=True option that can avoid unnecessary retracing. For (3), please refer to https://www.tensorflow.org/guide/function#controlling_retracing and https://www.tensorflow.org/api_docs/python/tf/function for  more details.\n",
            "WARNING:tensorflow:6 out of the last 6 calls to <function pfor.<locals>.f at 0x7f8a697c6820> triggered tf.function retracing. Tracing is expensive and the excessive number of tracings could be due to (1) creating @tf.function repeatedly in a loop, (2) passing tensors with different shapes, (3) passing Python objects instead of tensors. For (1), please define your @tf.function outside of the loop. For (2), @tf.function has reduce_retracing=True option that can avoid unnecessary retracing. For (3), please refer to https://www.tensorflow.org/guide/function#controlling_retracing and https://www.tensorflow.org/api_docs/python/tf/function for  more details.\n"
          ]
        }
      ]
    },
    {
      "cell_type": "code",
      "source": [
        "os.listdir('/content/archive/Parsed_Capuchinbird_Clips')"
      ],
      "metadata": {
        "id": "-5JvTcDkt8ms",
        "outputId": "d3cf6980-783d-4ee2-8fd1-dd06c74517d3",
        "colab": {
          "base_uri": "https://localhost:8080/"
        }
      },
      "id": "-5JvTcDkt8ms",
      "execution_count": 27,
      "outputs": [
        {
          "output_type": "execute_result",
          "data": {
            "text/plain": [
              "['XC495697-0.wav',\n",
              " 'XC16803-0.wav',\n",
              " 'XC44070-2.wav',\n",
              " 'XC22397-5.wav',\n",
              " 'XC216012-6.wav',\n",
              " 'XC395129-5.wav',\n",
              " 'XC79965-8.wav',\n",
              " 'XC27882-0.wav',\n",
              " 'XC216010-4.wav',\n",
              " 'XC178168-1.wav',\n",
              " 'XC227469-0.wav',\n",
              " 'XC216012-1.wav',\n",
              " 'XC27882-2.wav',\n",
              " 'XC526106-3.wav',\n",
              " 'XC216010-7.wav',\n",
              " 'XC178168-0.wav',\n",
              " 'XC520626-1.wav',\n",
              " 'XC395129-1.wav',\n",
              " 'XC216012-0.wav',\n",
              " 'XC201990-3.wav',\n",
              " 'XC600460-2.wav',\n",
              " 'XC216010-1.wav',\n",
              " 'XC216012-16.wav',\n",
              " 'XC227468-2.wav',\n",
              " 'XC46241-3.wav',\n",
              " 'XC216010-3.wav',\n",
              " 'XC227469-1.wav',\n",
              " 'XC227471-5.wav',\n",
              " 'XC98557-1.wav',\n",
              " 'XC16803-2.wav',\n",
              " 'XC388470-0.wav',\n",
              " 'XC387509-5.wav',\n",
              " 'XC46077-1.wav',\n",
              " 'XC216012-14.wav',\n",
              " 'XC79965-4.wav',\n",
              " 'XC44070-1.wav',\n",
              " 'XC216010-0.wav',\n",
              " 'XC526106-4.wav',\n",
              " 'XC79965-9.wav',\n",
              " 'XC395129-4.wav',\n",
              " 'XC433953-9.wav',\n",
              " 'XC395129-2.wav',\n",
              " 'XC216012-19.wav',\n",
              " 'XC433953-0.wav',\n",
              " 'XC227471-6.wav',\n",
              " 'XC401294-0.wav',\n",
              " 'XC395129-0.wav',\n",
              " 'XC114131-3.wav',\n",
              " 'XC22397-0.wav',\n",
              " 'XC178167-3.wav',\n",
              " 'XC433953-2.wav',\n",
              " 'XC3776-3.wav',\n",
              " 'XC46241-2.wav',\n",
              " 'XC520626-0.wav',\n",
              " 'XC3776-4.wav',\n",
              " 'XC16804-0.wav',\n",
              " 'XC216012-3.wav',\n",
              " 'XC227471-1.wav',\n",
              " 'XC119294-0.wav',\n",
              " 'XC22397-4.wav',\n",
              " 'XC9892-0.wav',\n",
              " 'XC495697-1.wav',\n",
              " 'XC46241-0.wav',\n",
              " 'XC27881-0.wav',\n",
              " 'XC201990-1.wav',\n",
              " 'XC27882-3.wav',\n",
              " 'XC178168-6.wav',\n",
              " 'XC433953-3.wav',\n",
              " 'XC388470-6.wav',\n",
              " 'XC114131-4.wav',\n",
              " 'XC178167-1.wav',\n",
              " 'XC307385-3.wav',\n",
              " 'XC456236-1.wav',\n",
              " 'XC520626-2.wav',\n",
              " 'XC201990-0.wav',\n",
              " 'XC9221-2.wav',\n",
              " 'XC3776-2.wav',\n",
              " 'XC9221-1.wav',\n",
              " 'XC22397-7.wav',\n",
              " 'XC22397-3.wav',\n",
              " 'XC114132-0.wav',\n",
              " 'XC216012-8.wav',\n",
              " 'XC46241-4.wav',\n",
              " 'XC387509-0.wav',\n",
              " 'XC456236-2.wav',\n",
              " 'XC46077-0.wav',\n",
              " 'XC216012-15.wav',\n",
              " 'XC216012-7.wav',\n",
              " 'XC178167-2.wav',\n",
              " 'XC456236-0.wav',\n",
              " 'XC3776-0.wav',\n",
              " 'XC388470-4.wav',\n",
              " 'XC227468-4.wav',\n",
              " 'XC227469-4.wav',\n",
              " 'XC600460-1.wav',\n",
              " 'XC456236-3.wav',\n",
              " 'XC178168-4.wav',\n",
              " 'XC227468-3.wav',\n",
              " 'XC433953-7.wav',\n",
              " 'XC114132-4.wav',\n",
              " 'XC65195-0.wav',\n",
              " 'XC27882-1.wav',\n",
              " 'XC178168-3.wav',\n",
              " 'XC574021-0.wav',\n",
              " 'XC79965-7.wav',\n",
              " 'XC201990-2.wav',\n",
              " 'XC216012-4.wav',\n",
              " 'XC395129-6.wav',\n",
              " 'XC216012-2.wav',\n",
              " 'XC79965-1.wav',\n",
              " 'XC513083-1.wav',\n",
              " 'XC216010-2.wav',\n",
              " 'XC526106-5.wav',\n",
              " 'XC46241-1.wav',\n",
              " 'XC27881-2.wav',\n",
              " 'XC168899-0.wav',\n",
              " 'XC433953-4.wav',\n",
              " 'XC65196-0.wav',\n",
              " 'XC479556-0.wav',\n",
              " 'XC307385-2.wav',\n",
              " 'XC114132-1.wav',\n",
              " 'XC216012-18.wav',\n",
              " 'XC65196-3.wav',\n",
              " 'XC227471-2.wav',\n",
              " 'XC600460-3.wav',\n",
              " 'XC3776-6.wav',\n",
              " 'XC201990-4.wav',\n",
              " 'XC307385-1.wav',\n",
              " 'XC520626-3.wav',\n",
              " 'XC526106-1.wav',\n",
              " 'XC495697-4.wav',\n",
              " 'XC65196-4.wav',\n",
              " 'XC433953-10.wav',\n",
              " 'XC513083-2.wav',\n",
              " 'XC27882-5.wav',\n",
              " 'XC9221-0.wav',\n",
              " 'XC387509-4.wav',\n",
              " 'XC98557-0.wav',\n",
              " 'XC388470-3.wav',\n",
              " 'XC600460-4.wav',\n",
              " 'XC27882-4.wav',\n",
              " 'XC216012-10.wav',\n",
              " 'XC27882-6.wav',\n",
              " 'XC216012-20.wav',\n",
              " 'XC433953-5.wav',\n",
              " 'XC526106-2.wav',\n",
              " 'XC178167-0.wav',\n",
              " 'XC216010-6.wav',\n",
              " 'XC433953-8.wav',\n",
              " 'XC395129-3.wav',\n",
              " 'XC79965-10.wav',\n",
              " 'XC307385-4.wav',\n",
              " 'XC65196-1.wav',\n",
              " 'XC22397-1.wav',\n",
              " 'XC388470-2.wav',\n",
              " 'XC3776-1.wav',\n",
              " 'XC388470-5.wav',\n",
              " 'XC22397-6.wav',\n",
              " 'XC387509-1.wav',\n",
              " 'XC27881-1.wav',\n",
              " 'XC227468-5.wav',\n",
              " 'XC178168-2.wav',\n",
              " 'XC178168-5.wav',\n",
              " 'XC114132-6.wav',\n",
              " 'XC79965-6.wav',\n",
              " 'XC227471-3.wav',\n",
              " 'XC216012-12.wav',\n",
              " 'XC79965-5.wav',\n",
              " 'XC216012-17.wav',\n",
              " 'XC227471-0.wav',\n",
              " 'XC216012-13.wav',\n",
              " 'XC495697-2.wav',\n",
              " 'XC216012-9.wav',\n",
              " 'XC114132-3.wav',\n",
              " 'XC16803-1.wav',\n",
              " 'XC216010-5.wav',\n",
              " 'XC600460-0.wav',\n",
              " 'XC16804-1.wav',\n",
              " 'XC227469-3.wav',\n",
              " 'XC114131-0.wav',\n",
              " 'XC456236-4.wav',\n",
              " 'XC40355-0.wav',\n",
              " 'XC456314-0.wav',\n",
              " 'XC46241-5.wav',\n",
              " 'XC387509-2.wav',\n",
              " 'XC216012-11.wav',\n",
              " 'XC114132-2.wav',\n",
              " 'XC227468-0.wav',\n",
              " 'XC216012-5.wav',\n",
              " 'XC526106-0.wav',\n",
              " 'XC79965-2.wav',\n",
              " 'XC114131-2.wav',\n",
              " 'XC44070-0.wav',\n",
              " 'XC600460-5.wav',\n",
              " 'XC22397-2.wav',\n",
              " 'XC388470-1.wav',\n",
              " 'XC433953-1.wav',\n",
              " 'XC387509-3.wav',\n",
              " 'XC307385-0.wav',\n",
              " 'XC433953-6.wav',\n",
              " 'XC79965-0.wav',\n",
              " 'XC227471-7.wav',\n",
              " 'XC46077-2.wav',\n",
              " 'XC3776-5.wav',\n",
              " 'XC227471-4.wav',\n",
              " 'XC495697-3.wav',\n",
              " 'XC178168-7.wav',\n",
              " 'XC27881-3.wav',\n",
              " 'XC201990-5.wav',\n",
              " 'XC114131-1.wav',\n",
              " 'XC227469-2.wav',\n",
              " 'XC513083-0.wav',\n",
              " 'XC227468-1.wav',\n",
              " 'XC574020-0.wav',\n",
              " 'XC65196-2.wav',\n",
              " 'XC114132-5.wav',\n",
              " 'XC79965-3.wav']"
            ]
          },
          "metadata": {},
          "execution_count": 27
        }
      ]
    },
    {
      "cell_type": "markdown",
      "source": [
        "### **Calculate Mean, Min and Max**"
      ],
      "metadata": {
        "id": "bED3voz21vq_"
      },
      "id": "bED3voz21vq_"
    },
    {
      "cell_type": "code",
      "source": [
        "tf.math.reduce_mean(lengths)"
      ],
      "metadata": {
        "id": "aIhpl-I0t8jk",
        "outputId": "0fc6f893-9c41-45e1-87be-04973dab363a",
        "colab": {
          "base_uri": "https://localhost:8080/"
        }
      },
      "id": "aIhpl-I0t8jk",
      "execution_count": 28,
      "outputs": [
        {
          "output_type": "execute_result",
          "data": {
            "text/plain": [
              "<tf.Tensor: shape=(), dtype=int32, numpy=54156>"
            ]
          },
          "metadata": {},
          "execution_count": 28
        }
      ]
    },
    {
      "cell_type": "code",
      "source": [
        "54156/16000 # 54156,16000 is amplitude(Hz --> times per second) ,So 3.38475 is Length of the video clip"
      ],
      "metadata": {
        "id": "8iB3MQPs3jfo",
        "outputId": "581d19f5-03a9-4eaa-f22e-c3904adaae3d",
        "colab": {
          "base_uri": "https://localhost:8080/"
        }
      },
      "id": "8iB3MQPs3jfo",
      "execution_count": 29,
      "outputs": [
        {
          "output_type": "execute_result",
          "data": {
            "text/plain": [
              "3.38475"
            ]
          },
          "metadata": {},
          "execution_count": 29
        }
      ]
    },
    {
      "cell_type": "code",
      "source": [
        "tf.math.reduce_min(lengths)"
      ],
      "metadata": {
        "id": "w43qu76Vt8gi",
        "outputId": "42705bab-91fd-4d74-bb15-d8cd69b84cfd",
        "colab": {
          "base_uri": "https://localhost:8080/"
        }
      },
      "id": "w43qu76Vt8gi",
      "execution_count": 30,
      "outputs": [
        {
          "output_type": "execute_result",
          "data": {
            "text/plain": [
              "<tf.Tensor: shape=(), dtype=int32, numpy=32000>"
            ]
          },
          "metadata": {},
          "execution_count": 30
        }
      ]
    },
    {
      "cell_type": "code",
      "source": [
        "tf.math.reduce_max(lengths)"
      ],
      "metadata": {
        "id": "KMmAjOVHt8ab",
        "outputId": "af656b0e-3d06-42bb-bc6e-8583f073639c",
        "colab": {
          "base_uri": "https://localhost:8080/"
        }
      },
      "id": "KMmAjOVHt8ab",
      "execution_count": 31,
      "outputs": [
        {
          "output_type": "execute_result",
          "data": {
            "text/plain": [
              "<tf.Tensor: shape=(), dtype=int32, numpy=80000>"
            ]
          },
          "metadata": {},
          "execution_count": 31
        }
      ]
    },
    {
      "cell_type": "markdown",
      "source": [
        "# **Build Preprocessing Function to Convert to Spectrogram**"
      ],
      "metadata": {
        "id": "kv_wqE5O4LvZ"
      },
      "id": "kv_wqE5O4LvZ"
    },
    {
      "cell_type": "code",
      "source": [
        "def preprocess(file_path, label): \n",
        "    wav = load_wav_16k_mono(file_path)\n",
        "    wav = wav[:48000]\n",
        "    zero_padding = tf.zeros([48000] - tf.shape(wav), dtype=tf.float32) #list ของ 0 ตามจำนวนที่ขาด\n",
        "    wav = tf.concat([zero_padding, wav],0) #เติม 0 เข้าไปในคลิปที่ความถี่ไม่ถึง 48000 ให้ครบ 48000\n",
        "    spectrogram = tf.signal.stft(wav, frame_length=320, frame_step=32)\n",
        "    spectrogram = tf.abs(spectrogram)\n",
        "    spectrogram = tf.expand_dims(spectrogram, axis=2)\n",
        "    return spectrogram, label"
      ],
      "metadata": {
        "id": "LVy2M15Dt8Mq"
      },
      "id": "LVy2M15Dt8Mq",
      "execution_count": 32,
      "outputs": []
    },
    {
      "cell_type": "code",
      "source": [
        "filepath, label = negatives.shuffle(buffer_size=10000).as_numpy_iterator().next()"
      ],
      "metadata": {
        "id": "YHxaTX2O2aHF"
      },
      "id": "YHxaTX2O2aHF",
      "execution_count": 33,
      "outputs": []
    },
    {
      "cell_type": "code",
      "source": [
        "spectrogram, label = preprocess(filepath, label)"
      ],
      "metadata": {
        "id": "GqIUP0bN2aFN"
      },
      "id": "GqIUP0bN2aFN",
      "execution_count": 34,
      "outputs": []
    },
    {
      "cell_type": "code",
      "source": [
        "spectrogram"
      ],
      "metadata": {
        "id": "iUmmP2Jl2aC1",
        "outputId": "282f565c-25bf-477a-bdfb-122fe9876706",
        "colab": {
          "base_uri": "https://localhost:8080/"
        }
      },
      "id": "iUmmP2Jl2aC1",
      "execution_count": 35,
      "outputs": [
        {
          "output_type": "execute_result",
          "data": {
            "text/plain": [
              "<tf.Tensor: shape=(1491, 257, 1), dtype=float32, numpy=\n",
              "array([[[1.53599203e+00],\n",
              "        [1.21949708e+00],\n",
              "        [5.67434490e-01],\n",
              "        ...,\n",
              "        [1.27054387e-04],\n",
              "        [9.39532765e-05],\n",
              "        [4.44650650e-05]],\n",
              "\n",
              "       [[1.56861687e+00],\n",
              "        [1.23738015e+00],\n",
              "        [5.78134656e-01],\n",
              "        ...,\n",
              "        [1.20664445e-04],\n",
              "        [7.00546298e-05],\n",
              "        [3.29017639e-05]],\n",
              "\n",
              "       [[1.53589392e+00],\n",
              "        [1.22019053e+00],\n",
              "        [5.62923729e-01],\n",
              "        ...,\n",
              "        [1.00215198e-04],\n",
              "        [7.02834877e-05],\n",
              "        [4.67896461e-05]],\n",
              "\n",
              "       ...,\n",
              "\n",
              "       [[3.05979818e-01],\n",
              "        [3.41452777e-01],\n",
              "        [3.19570631e-01],\n",
              "        ...,\n",
              "        [1.13482855e-03],\n",
              "        [7.73533829e-04],\n",
              "        [4.66287136e-04]],\n",
              "\n",
              "       [[4.27058250e-01],\n",
              "        [3.97626758e-01],\n",
              "        [2.84043908e-01],\n",
              "        ...,\n",
              "        [1.15939998e-03],\n",
              "        [6.58165314e-04],\n",
              "        [5.76078892e-05]],\n",
              "\n",
              "       [[4.69814628e-01],\n",
              "        [4.00791049e-01],\n",
              "        [2.38769040e-01],\n",
              "        ...,\n",
              "        [1.26896880e-03],\n",
              "        [4.76836140e-04],\n",
              "        [3.25143337e-05]]], dtype=float32)>"
            ]
          },
          "metadata": {},
          "execution_count": 35
        }
      ]
    },
    {
      "cell_type": "code",
      "source": [
        "label"
      ],
      "metadata": {
        "id": "jO81m2Uw_Ky0",
        "outputId": "9fa27062-1a4a-4839-b5a3-d677032d1923",
        "colab": {
          "base_uri": "https://localhost:8080/"
        }
      },
      "id": "jO81m2Uw_Ky0",
      "execution_count": 36,
      "outputs": [
        {
          "output_type": "execute_result",
          "data": {
            "text/plain": [
              "0.0"
            ]
          },
          "metadata": {},
          "execution_count": 36
        }
      ]
    },
    {
      "cell_type": "code",
      "source": [
        "plt.figure(figsize=(30,20))\n",
        "plt.imshow(tf.transpose(spectrogram)[0])\n",
        "plt.show()"
      ],
      "metadata": {
        "id": "jxPJgo162aAm",
        "outputId": "a2a50fcd-6f7f-4584-d6c9-52bf91bccf60",
        "colab": {
          "base_uri": "https://localhost:8080/",
          "height": 260
        }
      },
      "id": "jxPJgo162aAm",
      "execution_count": 37,
      "outputs": [
        {
          "output_type": "display_data",
          "data": {
            "text/plain": [
              "<Figure size 2160x1440 with 1 Axes>"
            ],
            "image/png": "[encoded data removed]"
          },
          "metadata": {
            "needs_background": "light"
          }
        }
      ]
    },
    {
      "cell_type": "markdown",
      "source": [
        "# **Create Training and Testing Partitions**"
      ],
      "metadata": {
        "id": "5nEj7FF8Bh0c"
      },
      "id": "5nEj7FF8Bh0c"
    },
    {
      "cell_type": "code",
      "source": [
        "data = data.map(preprocess)\n",
        "data = data.cache()\n",
        "data = data.shuffle(buffer_size=1000)\n",
        "data = data.batch(16)\n",
        "data = data.prefetch(8)"
      ],
      "metadata": {
        "id": "TLZplEo_2Z94",
        "outputId": "95c6e3c7-ace2-48bd-c4cc-0d2bdf1b630a",
        "colab": {
          "base_uri": "https://localhost:8080/"
        }
      },
      "id": "TLZplEo_2Z94",
      "execution_count": 38,
      "outputs": [
        {
          "output_type": "stream",
          "name": "stderr",
          "text": [
            "WARNING:tensorflow:From /usr/local/lib/python3.8/dist-packages/tensorflow/python/autograph/pyct/static_analysis/liveness.py:83: Analyzer.lamba_check (from tensorflow.python.autograph.pyct.static_analysis.liveness) is deprecated and will be removed after 2023-09-23.\n",
            "Instructions for updating:\n",
            "Lambda fuctions will be no more assumed to be used in the statement where they are used, or at least in the same block. https://github.com/tensorflow/tensorflow/issues/56089\n",
            "WARNING:tensorflow:Using a while_loop for converting IO>AudioResample cause there is no registered converter for this op.\n"
          ]
        }
      ]
    },
    {
      "cell_type": "code",
      "source": [
        "len(data)"
      ],
      "metadata": {
        "id": "8kjUNo3M2Z71",
        "outputId": "7d5edc9c-4708-48f9-bd71-7d992744175f",
        "colab": {
          "base_uri": "https://localhost:8080/"
        }
      },
      "id": "8kjUNo3M2Z71",
      "execution_count": 39,
      "outputs": [
        {
          "output_type": "execute_result",
          "data": {
            "text/plain": [
              "51"
            ]
          },
          "metadata": {},
          "execution_count": 39
        }
      ]
    },
    {
      "cell_type": "code",
      "source": [
        "train = data.take(36)\n",
        "test = data.skip(36).take(15)"
      ],
      "metadata": {
        "id": "rqKg7kw32Z4r"
      },
      "id": "rqKg7kw32Z4r",
      "execution_count": 66,
      "outputs": []
    },
    {
      "cell_type": "code",
      "source": [
        "xtrain, ytrain = train.as_numpy_iterator().next()"
      ],
      "metadata": {
        "id": "0q-JKGLy2Z11"
      },
      "id": "0q-JKGLy2Z11",
      "execution_count": 52,
      "outputs": []
    },
    {
      "cell_type": "code",
      "source": [
        "xtest, ytest = test.as_numpy_iterator().next()"
      ],
      "metadata": {
        "id": "ldeUptnwFp-Y"
      },
      "id": "ldeUptnwFp-Y",
      "execution_count": 50,
      "outputs": []
    },
    {
      "cell_type": "code",
      "source": [
        "xtrain.shape, xtest.shape, ytrain.shape, ytest.shape"
      ],
      "metadata": {
        "id": "OFXhoE9PtFHr",
        "outputId": "30d631ee-53d3-49bd-923c-6c59909d57d0",
        "colab": {
          "base_uri": "https://localhost:8080/"
        }
      },
      "id": "OFXhoE9PtFHr",
      "execution_count": 53,
      "outputs": [
        {
          "output_type": "execute_result",
          "data": {
            "text/plain": [
              "((16, 1491, 257, 1), (16, 1491, 257, 1), (16,), (16,))"
            ]
          },
          "metadata": {},
          "execution_count": 53
        }
      ]
    },
    {
      "cell_type": "code",
      "source": [
        "labels"
      ],
      "metadata": {
        "id": "x3r9MH-nt4Fw",
        "outputId": "83ab602e-d8db-45e4-ecea-f6799101c184",
        "colab": {
          "base_uri": "https://localhost:8080/"
        }
      },
      "id": "x3r9MH-nt4Fw",
      "execution_count": 43,
      "outputs": [
        {
          "output_type": "execute_result",
          "data": {
            "text/plain": [
              "array([0., 0., 0., 1., 0., 0., 0., 0., 0., 0., 0., 1., 1., 0., 1., 0.],\n",
              "      dtype=float32)"
            ]
          },
          "metadata": {},
          "execution_count": 43
        }
      ]
    },
    {
      "cell_type": "markdown",
      "source": [
        "# **Build Deep Learning Model**"
      ],
      "metadata": {
        "id": "cSfY_j2ZuETG"
      },
      "id": "cSfY_j2ZuETG"
    },
    {
      "cell_type": "code",
      "source": [
        "from tensorflow import keras\n",
        "from keras.layers import Dense\n",
        "from keras.layers import Conv2D\n",
        "from keras.layers import Flatten\n",
        "from keras.models import Sequential, load_model"
      ],
      "metadata": {
        "id": "4r-JFcFTtFFa"
      },
      "id": "4r-JFcFTtFFa",
      "execution_count": 44,
      "outputs": []
    },
    {
      "cell_type": "code",
      "source": [
        "model = Sequential()\n",
        "model.add(Conv2D(8, (3,3), activation='relu', input_shape=(1491, 257,1)))\n",
        "model.add(Conv2D(8, (3,3), activation='relu'))\n",
        "model.add(Flatten())\n",
        "model.add(Dense(128, activation='relu'))\n",
        "model.add(Dense(1, activation='sigmoid'))"
      ],
      "metadata": {
        "id": "--MLeQM2tFC5",
        "outputId": "1d508b0b-1dcb-44bd-ad43-b39bd22677cb",
        "colab": {
          "base_uri": "https://localhost:8080/",
          "height": 376
        }
      },
      "id": "--MLeQM2tFC5",
      "execution_count": 83,
      "outputs": [
        {
          "output_type": "error",
          "ename": "ResourceExhaustedError",
          "evalue": "ignored",
          "traceback": [
            "\u001b[0;31m---------------------------------------------------------------------------\u001b[0m",
            "\u001b[0;31mResourceExhaustedError\u001b[0m                    Traceback (most recent call last)",
            "\u001b[0;32m<ipython-input-83-967e20bb991f>\u001b[0m in \u001b[0;36m<module>\u001b[0;34m\u001b[0m\n\u001b[1;32m      3\u001b[0m \u001b[0mmodel\u001b[0m\u001b[0;34m.\u001b[0m\u001b[0madd\u001b[0m\u001b[0;34m(\u001b[0m\u001b[0mConv2D\u001b[0m\u001b[0;34m(\u001b[0m\u001b[0;36m8\u001b[0m\u001b[0;34m,\u001b[0m \u001b[0;34m(\u001b[0m\u001b[0;36m3\u001b[0m\u001b[0;34m,\u001b[0m\u001b[0;36m3\u001b[0m\u001b[0;34m)\u001b[0m\u001b[0;34m,\u001b[0m \u001b[0mactivation\u001b[0m\u001b[0;34m=\u001b[0m\u001b[0;34m'relu'\u001b[0m\u001b[0;34m)\u001b[0m\u001b[0;34m)\u001b[0m\u001b[0;34m\u001b[0m\u001b[0;34m\u001b[0m\u001b[0m\n\u001b[1;32m      4\u001b[0m \u001b[0mmodel\u001b[0m\u001b[0;34m.\u001b[0m\u001b[0madd\u001b[0m\u001b[0;34m(\u001b[0m\u001b[0mFlatten\u001b[0m\u001b[0;34m(\u001b[0m\u001b[0;34m)\u001b[0m\u001b[0;34m)\u001b[0m\u001b[0;34m\u001b[0m\u001b[0;34m\u001b[0m\u001b[0m\n\u001b[0;32m----> 5\u001b[0;31m \u001b[0mmodel\u001b[0m\u001b[0;34m.\u001b[0m\u001b[0madd\u001b[0m\u001b[0;34m(\u001b[0m\u001b[0mDense\u001b[0m\u001b[0;34m(\u001b[0m\u001b[0;36m128\u001b[0m\u001b[0;34m,\u001b[0m \u001b[0mactivation\u001b[0m\u001b[0;34m=\u001b[0m\u001b[0;34m'relu'\u001b[0m\u001b[0;34m)\u001b[0m\u001b[0;34m)\u001b[0m\u001b[0;34m\u001b[0m\u001b[0;34m\u001b[0m\u001b[0m\n\u001b[0m\u001b[1;32m      6\u001b[0m \u001b[0mmodel\u001b[0m\u001b[0;34m.\u001b[0m\u001b[0madd\u001b[0m\u001b[0;34m(\u001b[0m\u001b[0mDense\u001b[0m\u001b[0;34m(\u001b[0m\u001b[0;36m1\u001b[0m\u001b[0;34m,\u001b[0m \u001b[0mactivation\u001b[0m\u001b[0;34m=\u001b[0m\u001b[0;34m'sigmoid'\u001b[0m\u001b[0;34m)\u001b[0m\u001b[0;34m)\u001b[0m\u001b[0;34m\u001b[0m\u001b[0;34m\u001b[0m\u001b[0m\n",
            "\u001b[0;32m/usr/local/lib/python3.8/dist-packages/tensorflow/python/trackable/base.py\u001b[0m in \u001b[0;36m_method_wrapper\u001b[0;34m(self, *args, **kwargs)\u001b[0m\n\u001b[1;32m    203\u001b[0m     \u001b[0mself\u001b[0m\u001b[0;34m.\u001b[0m\u001b[0m_self_setattr_tracking\u001b[0m \u001b[0;34m=\u001b[0m \u001b[0;32mFalse\u001b[0m  \u001b[0;31m# pylint: disable=protected-access\u001b[0m\u001b[0;34m\u001b[0m\u001b[0;34m\u001b[0m\u001b[0m\n\u001b[1;32m    204\u001b[0m     \u001b[0;32mtry\u001b[0m\u001b[0;34m:\u001b[0m\u001b[0;34m\u001b[0m\u001b[0;34m\u001b[0m\u001b[0m\n\u001b[0;32m--> 205\u001b[0;31m       \u001b[0mresult\u001b[0m \u001b[0;34m=\u001b[0m \u001b[0mmethod\u001b[0m\u001b[0;34m(\u001b[0m\u001b[0mself\u001b[0m\u001b[0;34m,\u001b[0m \u001b[0;34m*\u001b[0m\u001b[0margs\u001b[0m\u001b[0;34m,\u001b[0m \u001b[0;34m**\u001b[0m\u001b[0mkwargs\u001b[0m\u001b[0;34m)\u001b[0m\u001b[0;34m\u001b[0m\u001b[0;34m\u001b[0m\u001b[0m\n\u001b[0m\u001b[1;32m    206\u001b[0m     \u001b[0;32mfinally\u001b[0m\u001b[0;34m:\u001b[0m\u001b[0;34m\u001b[0m\u001b[0;34m\u001b[0m\u001b[0m\n\u001b[1;32m    207\u001b[0m       \u001b[0mself\u001b[0m\u001b[0;34m.\u001b[0m\u001b[0m_self_setattr_tracking\u001b[0m \u001b[0;34m=\u001b[0m \u001b[0mprevious_value\u001b[0m  \u001b[0;31m# pylint: disable=protected-access\u001b[0m\u001b[0;34m\u001b[0m\u001b[0;34m\u001b[0m\u001b[0m\n",
            "\u001b[0;32m/usr/local/lib/python3.8/dist-packages/keras/utils/traceback_utils.py\u001b[0m in \u001b[0;36merror_handler\u001b[0;34m(*args, **kwargs)\u001b[0m\n\u001b[1;32m     68\u001b[0m             \u001b[0;31m# To get the full stack trace, call:\u001b[0m\u001b[0;34m\u001b[0m\u001b[0;34m\u001b[0m\u001b[0;34m\u001b[0m\u001b[0m\n\u001b[1;32m     69\u001b[0m             \u001b[0;31m# `tf.debugging.disable_traceback_filtering()`\u001b[0m\u001b[0;34m\u001b[0m\u001b[0;34m\u001b[0m\u001b[0;34m\u001b[0m\u001b[0m\n\u001b[0;32m---> 70\u001b[0;31m             \u001b[0;32mraise\u001b[0m \u001b[0me\u001b[0m\u001b[0;34m.\u001b[0m\u001b[0mwith_traceback\u001b[0m\u001b[0;34m(\u001b[0m\u001b[0mfiltered_tb\u001b[0m\u001b[0;34m)\u001b[0m \u001b[0;32mfrom\u001b[0m \u001b[0;32mNone\u001b[0m\u001b[0;34m\u001b[0m\u001b[0;34m\u001b[0m\u001b[0m\n\u001b[0m\u001b[1;32m     71\u001b[0m         \u001b[0;32mfinally\u001b[0m\u001b[0;34m:\u001b[0m\u001b[0;34m\u001b[0m\u001b[0;34m\u001b[0m\u001b[0m\n\u001b[1;32m     72\u001b[0m             \u001b[0;32mdel\u001b[0m \u001b[0mfiltered_tb\u001b[0m\u001b[0;34m\u001b[0m\u001b[0;34m\u001b[0m\u001b[0m\n",
            "\u001b[0;32m/usr/local/lib/python3.8/dist-packages/keras/backend.py\u001b[0m in \u001b[0;36mrandom_uniform\u001b[0;34m(self, shape, minval, maxval, dtype, nonce)\u001b[0m\n\u001b[1;32m   2098\u001b[0m             \u001b[0;32mif\u001b[0m \u001b[0mnonce\u001b[0m\u001b[0;34m:\u001b[0m\u001b[0;34m\u001b[0m\u001b[0;34m\u001b[0m\u001b[0m\n\u001b[1;32m   2099\u001b[0m                 \u001b[0mseed\u001b[0m \u001b[0;34m=\u001b[0m \u001b[0mtf\u001b[0m\u001b[0;34m.\u001b[0m\u001b[0mrandom\u001b[0m\u001b[0;34m.\u001b[0m\u001b[0mexperimental\u001b[0m\u001b[0;34m.\u001b[0m\u001b[0mstateless_fold_in\u001b[0m\u001b[0;34m(\u001b[0m\u001b[0mseed\u001b[0m\u001b[0;34m,\u001b[0m \u001b[0mnonce\u001b[0m\u001b[0;34m)\u001b[0m\u001b[0;34m\u001b[0m\u001b[0;34m\u001b[0m\u001b[0m\n\u001b[0;32m-> 2100\u001b[0;31m             return tf.random.stateless_uniform(\n\u001b[0m\u001b[1;32m   2101\u001b[0m                 \u001b[0mshape\u001b[0m\u001b[0;34m=\u001b[0m\u001b[0mshape\u001b[0m\u001b[0;34m,\u001b[0m\u001b[0;34m\u001b[0m\u001b[0;34m\u001b[0m\u001b[0m\n\u001b[1;32m   2102\u001b[0m                 \u001b[0mminval\u001b[0m\u001b[0;34m=\u001b[0m\u001b[0mminval\u001b[0m\u001b[0;34m,\u001b[0m\u001b[0;34m\u001b[0m\u001b[0;34m\u001b[0m\u001b[0m\n",
            "\u001b[0;31mResourceExhaustedError\u001b[0m: {{function_node __wrapped__Mul_device_/job:localhost/replica:0/task:0/device:GPU:0}} failed to allocate memory [Op:Mul]"
          ]
        }
      ]
    },
    {
      "cell_type": "code",
      "source": [
        "model.compile(optimizer='adam',loss='BinaryCrossentropy',metrics=[tf.keras.metrics.Recall(), tf.keras.metrics.Precision()])"
      ],
      "metadata": {
        "id": "ZpiWqk-gtFAb"
      },
      "id": "ZpiWqk-gtFAb",
      "execution_count": 81,
      "outputs": []
    },
    {
      "cell_type": "code",
      "source": [
        "model.summary()"
      ],
      "metadata": {
        "id": "rlVWyKVFtE9z",
        "outputId": "3c5a3c8e-f97f-48d7-921c-50f026be412b",
        "colab": {
          "base_uri": "https://localhost:8080/"
        }
      },
      "id": "rlVWyKVFtE9z",
      "execution_count": 74,
      "outputs": [
        {
          "output_type": "stream",
          "name": "stdout",
          "text": [
            "Model: \"sequential\"\n",
            "_________________________________________________________________\n",
            " Layer (type)                Output Shape              Param #   \n",
            "=================================================================\n",
            " conv2d (Conv2D)             (None, 1489, 255, 16)     160       \n",
            "                                                                 \n",
            " conv2d_1 (Conv2D)           (None, 1487, 253, 16)     2320      \n",
            "                                                                 \n",
            " flatten (Flatten)           (None, 6019376)           0         \n",
            "                                                                 \n",
            " dense (Dense)               (None, 128)               770480256 \n",
            "                                                                 \n",
            " dense_1 (Dense)             (None, 1)                 129       \n",
            "                                                                 \n",
            "=================================================================\n",
            "Total params: 770,482,865\n",
            "Trainable params: 770,482,865\n",
            "Non-trainable params: 0\n",
            "_________________________________________________________________\n"
          ]
        }
      ]
    },
    {
      "cell_type": "code",
      "source": [
        "hist = model.fit(xtrain,ytrain ,batch_size=4,epochs=4, validation_data=(xtest,ytest))"
      ],
      "metadata": {
        "id": "a9LZIs3ttE7P",
        "outputId": "76acbfa3-60a5-483e-8cfe-0b75d4cf23c7",
        "colab": {
          "base_uri": "https://localhost:8080/",
          "height": 772
        }
      },
      "id": "a9LZIs3ttE7P",
      "execution_count": 82,
      "outputs": [
        {
          "output_type": "stream",
          "name": "stdout",
          "text": [
            "Epoch 1/4\n"
          ]
        },
        {
          "output_type": "error",
          "ename": "ResourceExhaustedError",
          "evalue": "ignored",
          "traceback": [
            "\u001b[0;31m---------------------------------------------------------------------------\u001b[0m",
            "\u001b[0;31mResourceExhaustedError\u001b[0m                    Traceback (most recent call last)",
            "\u001b[0;32m<ipython-input-82-1f8d021a9cea>\u001b[0m in \u001b[0;36m<module>\u001b[0;34m\u001b[0m\n\u001b[0;32m----> 1\u001b[0;31m \u001b[0mhist\u001b[0m \u001b[0;34m=\u001b[0m \u001b[0mmodel\u001b[0m\u001b[0;34m.\u001b[0m\u001b[0mfit\u001b[0m\u001b[0;34m(\u001b[0m\u001b[0mxtrain\u001b[0m\u001b[0;34m,\u001b[0m\u001b[0mytrain\u001b[0m \u001b[0;34m,\u001b[0m\u001b[0mbatch_size\u001b[0m\u001b[0;34m=\u001b[0m\u001b[0;36m4\u001b[0m\u001b[0;34m,\u001b[0m\u001b[0mepochs\u001b[0m\u001b[0;34m=\u001b[0m\u001b[0;36m4\u001b[0m\u001b[0;34m,\u001b[0m \u001b[0mvalidation_data\u001b[0m\u001b[0;34m=\u001b[0m\u001b[0;34m(\u001b[0m\u001b[0mxtest\u001b[0m\u001b[0;34m,\u001b[0m\u001b[0mytest\u001b[0m\u001b[0;34m)\u001b[0m\u001b[0;34m)\u001b[0m\u001b[0;34m\u001b[0m\u001b[0;34m\u001b[0m\u001b[0m\n\u001b[0m",
            "\u001b[0;32m/usr/local/lib/python3.8/dist-packages/keras/utils/traceback_utils.py\u001b[0m in \u001b[0;36merror_handler\u001b[0;34m(*args, **kwargs)\u001b[0m\n\u001b[1;32m     68\u001b[0m             \u001b[0;31m# To get the full stack trace, call:\u001b[0m\u001b[0;34m\u001b[0m\u001b[0;34m\u001b[0m\u001b[0;34m\u001b[0m\u001b[0m\n\u001b[1;32m     69\u001b[0m             \u001b[0;31m# `tf.debugging.disable_traceback_filtering()`\u001b[0m\u001b[0;34m\u001b[0m\u001b[0;34m\u001b[0m\u001b[0;34m\u001b[0m\u001b[0m\n\u001b[0;32m---> 70\u001b[0;31m             \u001b[0;32mraise\u001b[0m \u001b[0me\u001b[0m\u001b[0;34m.\u001b[0m\u001b[0mwith_traceback\u001b[0m\u001b[0;34m(\u001b[0m\u001b[0mfiltered_tb\u001b[0m\u001b[0;34m)\u001b[0m \u001b[0;32mfrom\u001b[0m \u001b[0;32mNone\u001b[0m\u001b[0;34m\u001b[0m\u001b[0;34m\u001b[0m\u001b[0m\n\u001b[0m\u001b[1;32m     71\u001b[0m         \u001b[0;32mfinally\u001b[0m\u001b[0;34m:\u001b[0m\u001b[0;34m\u001b[0m\u001b[0;34m\u001b[0m\u001b[0m\n\u001b[1;32m     72\u001b[0m             \u001b[0;32mdel\u001b[0m \u001b[0mfiltered_tb\u001b[0m\u001b[0;34m\u001b[0m\u001b[0;34m\u001b[0m\u001b[0m\n",
            "\u001b[0;32m/usr/local/lib/python3.8/dist-packages/tensorflow/python/framework/func_graph.py\u001b[0m in \u001b[0;36mautograph_handler\u001b[0;34m(*args, **kwargs)\u001b[0m\n\u001b[1;32m   1267\u001b[0m           \u001b[0;32mexcept\u001b[0m \u001b[0mException\u001b[0m \u001b[0;32mas\u001b[0m \u001b[0me\u001b[0m\u001b[0;34m:\u001b[0m  \u001b[0;31m# pylint:disable=broad-except\u001b[0m\u001b[0;34m\u001b[0m\u001b[0;34m\u001b[0m\u001b[0m\n\u001b[1;32m   1268\u001b[0m             \u001b[0;32mif\u001b[0m \u001b[0mhasattr\u001b[0m\u001b[0;34m(\u001b[0m\u001b[0me\u001b[0m\u001b[0;34m,\u001b[0m \u001b[0;34m\"ag_error_metadata\"\u001b[0m\u001b[0;34m)\u001b[0m\u001b[0;34m:\u001b[0m\u001b[0;34m\u001b[0m\u001b[0;34m\u001b[0m\u001b[0m\n\u001b[0;32m-> 1269\u001b[0;31m               \u001b[0;32mraise\u001b[0m \u001b[0me\u001b[0m\u001b[0;34m.\u001b[0m\u001b[0mag_error_metadata\u001b[0m\u001b[0;34m.\u001b[0m\u001b[0mto_exception\u001b[0m\u001b[0;34m(\u001b[0m\u001b[0me\u001b[0m\u001b[0;34m)\u001b[0m\u001b[0;34m\u001b[0m\u001b[0;34m\u001b[0m\u001b[0m\n\u001b[0m\u001b[1;32m   1270\u001b[0m             \u001b[0;32melse\u001b[0m\u001b[0;34m:\u001b[0m\u001b[0;34m\u001b[0m\u001b[0;34m\u001b[0m\u001b[0m\n\u001b[1;32m   1271\u001b[0m               \u001b[0;32mraise\u001b[0m\u001b[0;34m\u001b[0m\u001b[0;34m\u001b[0m\u001b[0m\n",
            "\u001b[0;31mResourceExhaustedError\u001b[0m: in user code:\n\n    File \"/usr/local/lib/python3.8/dist-packages/keras/engine/training.py\", line 1249, in train_function  *\n        return step_function(self, iterator)\n    File \"/usr/local/lib/python3.8/dist-packages/keras/engine/training.py\", line 1233, in step_function  **\n        outputs = model.distribute_strategy.run(run_step, args=(data,))\n    File \"/usr/local/lib/python3.8/dist-packages/keras/engine/training.py\", line 1222, in run_step  **\n        outputs = model.train_step(data)\n    File \"/usr/local/lib/python3.8/dist-packages/keras/engine/training.py\", line 1027, in train_step\n        self.optimizer.minimize(loss, self.trainable_variables, tape=tape)\n    File \"/usr/local/lib/python3.8/dist-packages/keras/optimizers/optimizer_experimental/optimizer.py\", line 527, in minimize\n        self.apply_gradients(grads_and_vars)\n    File \"/usr/local/lib/python3.8/dist-packages/keras/optimizers/optimizer_experimental/optimizer.py\", line 1140, in apply_gradients\n        return super().apply_gradients(grads_and_vars, name=name)\n    File \"/usr/local/lib/python3.8/dist-packages/keras/optimizers/optimizer_experimental/optimizer.py\", line 621, in apply_gradients\n        self.build(trainable_variables)\n    File \"/usr/local/lib/python3.8/dist-packages/keras/optimizers/optimizer_experimental/adam.py\", line 139, in build\n        self.add_variable_from_reference(\n    File \"/usr/local/lib/python3.8/dist-packages/keras/optimizers/optimizer_experimental/optimizer.py\", line 1072, in add_variable_from_reference\n        return super().add_variable_from_reference(\n    File \"/usr/local/lib/python3.8/dist-packages/keras/optimizers/optimizer_experimental/optimizer.py\", line 491, in add_variable_from_reference\n        initial_value = tf.zeros(\n\n    ResourceExhaustedError: {{function_node __wrapped__Fill_device_/job:localhost/replica:0/task:0/device:GPU:0}} OOM when allocating tensor with shape[6019376,128] and type float on /job:localhost/replica:0/task:0/device:GPU:0 by allocator GPU_0_bfc [Op:Fill]\n"
          ]
        }
      ]
    },
    {
      "cell_type": "code",
      "source": [
        "plt.title('Loss')\n",
        "plt.plot(hist.history['loss'], 'r')\n",
        "plt.plot(hist.history['val_loss'], 'b')\n",
        "plt.show()"
      ],
      "metadata": {
        "id": "blaGuIEWtE4k"
      },
      "id": "blaGuIEWtE4k",
      "execution_count": null,
      "outputs": []
    },
    {
      "cell_type": "code",
      "source": [
        "plt.title('Precision')\n",
        "plt.plot(hist.history['precision'], 'r')\n",
        "plt.plot(hist.history['val_precision'], 'b')\n",
        "plt.show()"
      ],
      "metadata": {
        "id": "gKn1uKG2ydFq"
      },
      "id": "gKn1uKG2ydFq",
      "execution_count": null,
      "outputs": []
    },
    {
      "cell_type": "code",
      "source": [
        "plt.title('Recall')\n",
        "plt.plot(hist.history['recall'], 'r')\n",
        "plt.plot(hist.history['val_recall'], 'b')\n",
        "plt.show()"
      ],
      "metadata": {
        "id": "3yS0MH6ZydDO"
      },
      "id": "3yS0MH6ZydDO",
      "execution_count": null,
      "outputs": []
    },
    {
      "cell_type": "code",
      "source": [],
      "metadata": {
        "id": "I90EiRjaydAs"
      },
      "id": "I90EiRjaydAs",
      "execution_count": null,
      "outputs": []
    },
    {
      "cell_type": "code",
      "source": [],
      "metadata": {
        "id": "nXBGxEx9yc-G"
      },
      "id": "nXBGxEx9yc-G",
      "execution_count": null,
      "outputs": []
    },
    {
      "cell_type": "code",
      "source": [],
      "metadata": {
        "id": "6GbZHZjsyc7b"
      },
      "id": "6GbZHZjsyc7b",
      "execution_count": null,
      "outputs": []
    },
    {
      "cell_type": "code",
      "source": [],
      "metadata": {
        "id": "7_0TBm_Vyc4Y"
      },
      "id": "7_0TBm_Vyc4Y",
      "execution_count": null,
      "outputs": []
    },
    {
      "cell_type": "code",
      "source": [],
      "metadata": {
        "id": "OVmQ9Mnyyc1s"
      },
      "id": "OVmQ9Mnyyc1s",
      "execution_count": null,
      "outputs": []
    },
    {
      "cell_type": "code",
      "source": [],
      "metadata": {
        "id": "YwJ6PgOVycuQ"
      },
      "id": "YwJ6PgOVycuQ",
      "execution_count": null,
      "outputs": []
    },
    {
      "cell_type": "code",
      "source": [],
      "metadata": {
        "id": "vDyyaPk0tEzf"
      },
      "id": "vDyyaPk0tEzf",
      "execution_count": null,
      "outputs": []
    }
  ],
  "metadata": {
    "kernelspec": {
      "display_name": "Python 3 (ipykernel)",
      "language": "python",
      "name": "python3"
    },
    "language_info": {
      "codemirror_mode": {
        "name": "ipython",
        "version": 3
      },
      "file_extension": ".py",
      "mimetype": "text/x-python",
      "name": "python",
      "nbconvert_exporter": "python",
      "pygments_lexer": "ipython3",
      "version": "3.9.13"
    },
    "colab": {
      "provenance": []
    },
    "accelerator": "GPU",
    "gpuClass": "standard"
  },
  "nbformat": 4,
  "nbformat_minor": 5
}